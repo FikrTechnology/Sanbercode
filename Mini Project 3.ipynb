{
 "cells": [
  {
   "cell_type": "markdown",
   "metadata": {
    "colab_type": "text",
    "id": "cs7tFAyosiT5"
   },
   "source": [
    "Downoad file vgsales.csv <a href=\"https://blog.sanbercode.com/wp-content/uploads/2020/05/vgsales.csv\">di sini</a>"
   ]
  },
  {
   "cell_type": "code",
   "execution_count": 1,
   "metadata": {
    "colab": {
     "base_uri": "https://localhost:8080/",
     "height": 204
    },
    "colab_type": "code",
    "executionInfo": {
     "elapsed": 1218,
     "status": "ok",
     "timestamp": 1588981890867,
     "user": {
      "displayName": "Muhammad Fikri",
      "photoUrl": "https://lh3.googleusercontent.com/a-/AOh14GiUZBH0_W7P-7ljuBxSmEU6Ott58x4r_Vq-PTlI=s64",
      "userId": "10875683560649930013"
     },
     "user_tz": -420
    },
    "id": "z9EJORqWsiT7",
    "outputId": "0f2156e6-06cf-43b2-8fc7-b9aa9ce68459"
   },
   "outputs": [
    {
     "data": {
      "text/html": [
       "<div>\n",
       "<style scoped>\n",
       "    .dataframe tbody tr th:only-of-type {\n",
       "        vertical-align: middle;\n",
       "    }\n",
       "\n",
       "    .dataframe tbody tr th {\n",
       "        vertical-align: top;\n",
       "    }\n",
       "\n",
       "    .dataframe thead th {\n",
       "        text-align: right;\n",
       "    }\n",
       "</style>\n",
       "<table border=\"1\" class=\"dataframe\">\n",
       "  <thead>\n",
       "    <tr style=\"text-align: right;\">\n",
       "      <th></th>\n",
       "      <th>Rank</th>\n",
       "      <th>Name</th>\n",
       "      <th>Platform</th>\n",
       "      <th>Year</th>\n",
       "      <th>Genre</th>\n",
       "      <th>Publisher</th>\n",
       "      <th>NA_Sales</th>\n",
       "      <th>EU_Sales</th>\n",
       "      <th>JP_Sales</th>\n",
       "      <th>Other_Sales</th>\n",
       "      <th>Global_Sales</th>\n",
       "    </tr>\n",
       "  </thead>\n",
       "  <tbody>\n",
       "    <tr>\n",
       "      <th>0</th>\n",
       "      <td>1</td>\n",
       "      <td>Wii Sports</td>\n",
       "      <td>Wii</td>\n",
       "      <td>2006.0</td>\n",
       "      <td>Sports</td>\n",
       "      <td>Nintendo</td>\n",
       "      <td>41.49</td>\n",
       "      <td>29.02</td>\n",
       "      <td>3.77</td>\n",
       "      <td>8.46</td>\n",
       "      <td>82.74</td>\n",
       "    </tr>\n",
       "    <tr>\n",
       "      <th>1</th>\n",
       "      <td>2</td>\n",
       "      <td>Super Mario Bros.</td>\n",
       "      <td>NES</td>\n",
       "      <td>1985.0</td>\n",
       "      <td>Platform</td>\n",
       "      <td>Nintendo</td>\n",
       "      <td>29.08</td>\n",
       "      <td>3.58</td>\n",
       "      <td>6.81</td>\n",
       "      <td>0.77</td>\n",
       "      <td>40.24</td>\n",
       "    </tr>\n",
       "    <tr>\n",
       "      <th>2</th>\n",
       "      <td>3</td>\n",
       "      <td>Mario Kart Wii</td>\n",
       "      <td>Wii</td>\n",
       "      <td>2008.0</td>\n",
       "      <td>Racing</td>\n",
       "      <td>Nintendo</td>\n",
       "      <td>15.85</td>\n",
       "      <td>12.88</td>\n",
       "      <td>3.79</td>\n",
       "      <td>3.31</td>\n",
       "      <td>35.82</td>\n",
       "    </tr>\n",
       "    <tr>\n",
       "      <th>3</th>\n",
       "      <td>4</td>\n",
       "      <td>Wii Sports Resort</td>\n",
       "      <td>Wii</td>\n",
       "      <td>2009.0</td>\n",
       "      <td>Sports</td>\n",
       "      <td>Nintendo</td>\n",
       "      <td>15.75</td>\n",
       "      <td>11.01</td>\n",
       "      <td>3.28</td>\n",
       "      <td>2.96</td>\n",
       "      <td>33.00</td>\n",
       "    </tr>\n",
       "    <tr>\n",
       "      <th>4</th>\n",
       "      <td>5</td>\n",
       "      <td>Pokemon Red/Pokemon Blue</td>\n",
       "      <td>GB</td>\n",
       "      <td>1996.0</td>\n",
       "      <td>Role-Playing</td>\n",
       "      <td>Nintendo</td>\n",
       "      <td>11.27</td>\n",
       "      <td>8.89</td>\n",
       "      <td>10.22</td>\n",
       "      <td>1.00</td>\n",
       "      <td>31.37</td>\n",
       "    </tr>\n",
       "  </tbody>\n",
       "</table>\n",
       "</div>"
      ],
      "text/plain": [
       "   Rank                      Name Platform  ...  JP_Sales Other_Sales Global_Sales\n",
       "0     1                Wii Sports      Wii  ...      3.77        8.46        82.74\n",
       "1     2         Super Mario Bros.      NES  ...      6.81        0.77        40.24\n",
       "2     3            Mario Kart Wii      Wii  ...      3.79        3.31        35.82\n",
       "3     4         Wii Sports Resort      Wii  ...      3.28        2.96        33.00\n",
       "4     5  Pokemon Red/Pokemon Blue       GB  ...     10.22        1.00        31.37\n",
       "\n",
       "[5 rows x 11 columns]"
      ]
     },
     "execution_count": 1,
     "metadata": {
      "tags": []
     },
     "output_type": "execute_result"
    }
   ],
   "source": [
    "import pandas as pd\n",
    "import matplotlib.pyplot as plt\n",
    "import numpy as np\n",
    "\n",
    "df = pd.read_csv('vgsales.csv')\n",
    "df.head()"
   ]
  },
  {
   "cell_type": "markdown",
   "metadata": {
    "colab_type": "text",
    "id": "3DKyG1HFsiUG"
   },
   "source": [
    "<h2>Quiz 1 Preparing Data</h2>\n",
    "\n",
    "Manipulasi data tersebut dengan menggroupkan berdasarkan Genre, kemudian ambil rata2 penjualan untuk setiap Region Kecuali Global_Sales berdasarkan kategori Genre."
   ]
  },
  {
   "cell_type": "code",
   "execution_count": 0,
   "metadata": {
    "colab": {},
    "colab_type": "code",
    "id": "PZGOT53ZsiUH"
   },
   "outputs": [],
   "source": [
    "subjects = ['NA_Sales', 'EU_Sales', 'JP_Sales', 'Other_Sales']"
   ]
  },
  {
   "cell_type": "code",
   "execution_count": 0,
   "metadata": {
    "colab": {},
    "colab_type": "code",
    "id": "W7XN-QAmsiUN"
   },
   "outputs": [],
   "source": [
    "mean_sales = df.groupby('Genre')[subjects].mean()"
   ]
  },
  {
   "cell_type": "code",
   "execution_count": 4,
   "metadata": {
    "colab": {
     "base_uri": "https://localhost:8080/",
     "height": 452
    },
    "colab_type": "code",
    "executionInfo": {
     "elapsed": 5219,
     "status": "ok",
     "timestamp": 1588981904153,
     "user": {
      "displayName": "Muhammad Fikri",
      "photoUrl": "https://lh3.googleusercontent.com/a-/AOh14GiUZBH0_W7P-7ljuBxSmEU6Ott58x4r_Vq-PTlI=s64",
      "userId": "10875683560649930013"
     },
     "user_tz": -420
    },
    "id": "UBi7AIhtsiUR",
    "outputId": "dcd940a7-9143-4c64-fafc-9105c19486d5"
   },
   "outputs": [
    {
     "data": {
      "text/html": [
       "<div>\n",
       "<style scoped>\n",
       "    .dataframe tbody tr th:only-of-type {\n",
       "        vertical-align: middle;\n",
       "    }\n",
       "\n",
       "    .dataframe tbody tr th {\n",
       "        vertical-align: top;\n",
       "    }\n",
       "\n",
       "    .dataframe thead th {\n",
       "        text-align: right;\n",
       "    }\n",
       "</style>\n",
       "<table border=\"1\" class=\"dataframe\">\n",
       "  <thead>\n",
       "    <tr style=\"text-align: right;\">\n",
       "      <th></th>\n",
       "      <th>NA_Sales</th>\n",
       "      <th>EU_Sales</th>\n",
       "      <th>JP_Sales</th>\n",
       "      <th>Other_Sales</th>\n",
       "    </tr>\n",
       "    <tr>\n",
       "      <th>Genre</th>\n",
       "      <th></th>\n",
       "      <th></th>\n",
       "      <th></th>\n",
       "      <th></th>\n",
       "    </tr>\n",
       "  </thead>\n",
       "  <tbody>\n",
       "    <tr>\n",
       "      <th>Action</th>\n",
       "      <td>0.516669</td>\n",
       "      <td>0.317592</td>\n",
       "      <td>0.080917</td>\n",
       "      <td>0.114616</td>\n",
       "    </tr>\n",
       "    <tr>\n",
       "      <th>Adventure</th>\n",
       "      <td>0.358128</td>\n",
       "      <td>0.225191</td>\n",
       "      <td>0.104723</td>\n",
       "      <td>0.057574</td>\n",
       "    </tr>\n",
       "    <tr>\n",
       "      <th>Fighting</th>\n",
       "      <td>0.508922</td>\n",
       "      <td>0.233333</td>\n",
       "      <td>0.173578</td>\n",
       "      <td>0.084804</td>\n",
       "    </tr>\n",
       "    <tr>\n",
       "      <th>Misc</th>\n",
       "      <td>0.516026</td>\n",
       "      <td>0.285028</td>\n",
       "      <td>0.123048</td>\n",
       "      <td>0.099501</td>\n",
       "    </tr>\n",
       "    <tr>\n",
       "      <th>Platform</th>\n",
       "      <td>0.877355</td>\n",
       "      <td>0.399711</td>\n",
       "      <td>0.262996</td>\n",
       "      <td>0.102500</td>\n",
       "    </tr>\n",
       "    <tr>\n",
       "      <th>Puzzle</th>\n",
       "      <td>0.580385</td>\n",
       "      <td>0.249121</td>\n",
       "      <td>0.292912</td>\n",
       "      <td>0.059341</td>\n",
       "    </tr>\n",
       "    <tr>\n",
       "      <th>Racing</th>\n",
       "      <td>0.562660</td>\n",
       "      <td>0.382971</td>\n",
       "      <td>0.091831</td>\n",
       "      <td>0.126028</td>\n",
       "    </tr>\n",
       "    <tr>\n",
       "      <th>Role-Playing</th>\n",
       "      <td>0.461750</td>\n",
       "      <td>0.268492</td>\n",
       "      <td>0.475008</td>\n",
       "      <td>0.084525</td>\n",
       "    </tr>\n",
       "    <tr>\n",
       "      <th>Shooter</th>\n",
       "      <td>0.826168</td>\n",
       "      <td>0.447305</td>\n",
       "      <td>0.048922</td>\n",
       "      <td>0.147949</td>\n",
       "    </tr>\n",
       "    <tr>\n",
       "      <th>Simulation</th>\n",
       "      <td>0.439649</td>\n",
       "      <td>0.287054</td>\n",
       "      <td>0.150216</td>\n",
       "      <td>0.078027</td>\n",
       "    </tr>\n",
       "    <tr>\n",
       "      <th>Sports</th>\n",
       "      <td>0.527732</td>\n",
       "      <td>0.301878</td>\n",
       "      <td>0.093840</td>\n",
       "      <td>0.108556</td>\n",
       "    </tr>\n",
       "    <tr>\n",
       "      <th>Strategy</th>\n",
       "      <td>0.292205</td>\n",
       "      <td>0.188051</td>\n",
       "      <td>0.187385</td>\n",
       "      <td>0.045949</td>\n",
       "    </tr>\n",
       "  </tbody>\n",
       "</table>\n",
       "</div>"
      ],
      "text/plain": [
       "              NA_Sales  EU_Sales  JP_Sales  Other_Sales\n",
       "Genre                                                  \n",
       "Action        0.516669  0.317592  0.080917     0.114616\n",
       "Adventure     0.358128  0.225191  0.104723     0.057574\n",
       "Fighting      0.508922  0.233333  0.173578     0.084804\n",
       "Misc          0.516026  0.285028  0.123048     0.099501\n",
       "Platform      0.877355  0.399711  0.262996     0.102500\n",
       "Puzzle        0.580385  0.249121  0.292912     0.059341\n",
       "Racing        0.562660  0.382971  0.091831     0.126028\n",
       "Role-Playing  0.461750  0.268492  0.475008     0.084525\n",
       "Shooter       0.826168  0.447305  0.048922     0.147949\n",
       "Simulation    0.439649  0.287054  0.150216     0.078027\n",
       "Sports        0.527732  0.301878  0.093840     0.108556\n",
       "Strategy      0.292205  0.188051  0.187385     0.045949"
      ]
     },
     "execution_count": 4,
     "metadata": {
      "tags": []
     },
     "output_type": "execute_result"
    }
   ],
   "source": [
    "mean_sales"
   ]
  },
  {
   "cell_type": "markdown",
   "metadata": {
    "colab_type": "text",
    "id": "lpiV4wf1siUX"
   },
   "source": [
    "Expected Output :\n",
    "\n",
    "![image.png](attachment:image.png)"
   ]
  },
  {
   "cell_type": "markdown",
   "metadata": {
    "colab_type": "text",
    "id": "EizjgGTKsiUY"
   },
   "source": [
    "<h2>Perbandingan Kuantitatif Barplot : Grouping Visualisasi Dengan Barplot</h2>\n",
    "\n",
    "1. Visualisasikan gambar yang tadi kita manipulasi, untuk menhasilkan visualisasi seperti di bawah ini\n",
    "2. Tuliskan apa insight yang bisa kamu dapat dari visualisasi tersebut"
   ]
  },
  {
   "cell_type": "markdown",
   "metadata": {
    "colab_type": "text",
    "id": "EdZXb8tQsiUZ"
   },
   "source": [
    "- Penjualan Video Games terbanyak di Region NA_Sales adalah PLatform\n",
    "- NA_Sales menduduki peringkat pertama sebagai penjualan Video Games terbanyak dari beberapa Region\n",
    "- Penjualan Video Games terbanyak di Region JP_Sales adalah Role Playing"
   ]
  },
  {
   "cell_type": "code",
   "execution_count": 5,
   "metadata": {
    "colab": {
     "base_uri": "https://localhost:8080/",
     "height": 512
    },
    "colab_type": "code",
    "executionInfo": {
     "elapsed": 1360,
     "status": "ok",
     "timestamp": 1588981914026,
     "user": {
      "displayName": "Muhammad Fikri",
      "photoUrl": "https://lh3.googleusercontent.com/a-/AOh14GiUZBH0_W7P-7ljuBxSmEU6Ott58x4r_Vq-PTlI=s64",
      "userId": "10875683560649930013"
     },
     "user_tz": -420
    },
    "id": "IhnxlzbvsiUa",
    "outputId": "3697f5dd-21c9-498d-ed48-6898bcb75493",
    "scrolled": true
   },
   "outputs": [
    {
     "data": {
      "image/png": "[encoded data removed]",
      "text/plain": [
       "<Figure size 1152x576 with 1 Axes>"
      ]
     },
     "metadata": {
      "needs_background": "light",
      "tags": []
     },
     "output_type": "display_data"
    }
   ],
   "source": [
    "indx = np.arange(len(subjects))\n",
    "mean_label = np.arange(0, 4)\n",
    "\n",
    "y1 = list(mean_sales.T['Action'])\n",
    "y2 = list(mean_sales.T['Adventure'])\n",
    "y3 = list(mean_sales.T['Fighting'])\n",
    "y4 = list(mean_sales.T['Misc'])\n",
    "y5 = list(mean_sales.T['Platform'])\n",
    "y6 = list(mean_sales.T['Puzzle'])\n",
    "y7 = list(mean_sales.T['Racing'])\n",
    "y8 = list(mean_sales.T['Role-Playing'])\n",
    "y9 = list(mean_sales.T['Shooter'])\n",
    "y10 = list(mean_sales.T['Simulation'])\n",
    "y11 = list(mean_sales.T['Sports'])\n",
    "y12 = list(mean_sales.T['Strategy'])\n",
    "# print(mean_sales.T)\n",
    "bar_width = 0.070\n",
    "\n",
    "fig, ax = plt.subplots(figsize=(16, 8))\n",
    "plt.style.use('seaborn')\n",
    "\n",
    "action = ax.bar(indx - bar_width/2, y1, bar_width, label='Action')\n",
    "adventure = ax.bar(indx + bar_width/2, y2, bar_width, label='Adventure')\n",
    "fighting = ax.bar(indx + bar_width/0.66, y3, bar_width, label='Fighting')\n",
    "misc = ax.bar(indx + bar_width/0.40, y4, bar_width, label='Misc')\n",
    "platform = ax.bar(indx + bar_width/0.29, y5, bar_width, label='Platform')\n",
    "puzzle = ax.bar(indx + bar_width/0.225, y6, bar_width, label='Puzzle')\n",
    "racing = ax.bar(indx + bar_width/0.185, y7, bar_width, label='Racing')\n",
    "role = ax.bar(indx + bar_width/0.156, y8, bar_width, label='Role-Playing')\n",
    "shooter = ax.bar(indx + bar_width/0.135, y9, bar_width, label='Shooter')\n",
    "simulator = ax.bar(indx + bar_width/0.119, y10, bar_width, label='Simulation')\n",
    "sports = ax.bar(indx + bar_width/0.108, y11, bar_width, label='Sports')\n",
    "strategy = ax.bar(indx + bar_width/0.0975, y12, bar_width, label='Strategy')\n",
    "\n",
    "# ax.set_xticklabels([0] + list(subjects)) <-- Original\n",
    "# ax.set_xtick(indx)\n",
    "ax.set_xticklabels([0] + [' '] + ['NA_Sales'] + [' '] + ['EU_Sales'] + [' '] + ['JP_Sales'] + [' '] + ['Other_Sales']) # <-- Custom Sendiri\n",
    "ax.set_xlabel('Region Sales')\n",
    "ax.set_ylabel('Mean Sales')\n",
    "ax.set_title('Mean Sales Video Games By Genre')\n",
    "plt.legend()\n",
    "plt.show()"
   ]
  },
  {
   "cell_type": "markdown",
   "metadata": {
    "colab_type": "text",
    "id": "GVA4thWdsiUf"
   },
   "source": [
    "![image.png](attachment:image.png)"
   ]
  },
  {
   "cell_type": "markdown",
   "metadata": {
    "colab_type": "text",
    "id": "mKC2KNVvsiUg"
   },
   "source": [
    "<h2>Perbandingan Kuantitatif Barplot : Stack Barplot</h2>\n",
    "\n",
    "1. Visualisasikan gambar yang tadi kita manipulasi, untuk menhasilkan visualisasi seperti di bawah ini\n",
    "2. Tuliskan apa insight yang bisa kamu dapat dari visualisasi tersebut"
   ]
  },
  {
   "cell_type": "markdown",
   "metadata": {
    "colab_type": "text",
    "id": "bbHsb8FDsiUh"
   },
   "source": [
    "![image.png](attachment:image.png)"
   ]
  },
  {
   "cell_type": "markdown",
   "metadata": {
    "colab_type": "text",
    "id": "k9AJuMelsiUi"
   },
   "source": [
    "- Penjualan Video Games Tertinggi berada di NA_Sales\n",
    "- Penjualan Games Platform dan Shooter terbesar berada di NA_Sales\n",
    "- Penjualan terdikit berada di Other_Sales"
   ]
  },
  {
   "cell_type": "code",
   "execution_count": 6,
   "metadata": {
    "colab": {
     "base_uri": "https://localhost:8080/",
     "height": 512
    },
    "colab_type": "code",
    "executionInfo": {
     "elapsed": 1535,
     "status": "ok",
     "timestamp": 1588981923022,
     "user": {
      "displayName": "Muhammad Fikri",
      "photoUrl": "https://lh3.googleusercontent.com/a-/AOh14GiUZBH0_W7P-7ljuBxSmEU6Ott58x4r_Vq-PTlI=s64",
      "userId": "10875683560649930013"
     },
     "user_tz": -420
    },
    "id": "Z-ygZ39TsiUk",
    "outputId": "600a3514-2f58-4809-a1d8-29a9ccd45655"
   },
   "outputs": [
    {
     "data": {
      "image/png": "[encoded data removed]",
      "text/plain": [
       "<Figure size 1152x576 with 1 Axes>"
      ]
     },
     "metadata": {
      "tags": []
     },
     "output_type": "display_data"
    }
   ],
   "source": [
    "indx = np.arange(len(subjects))\n",
    "# mean_label = np.arange(0, 4)\n",
    "\n",
    "y1 = list(mean_sales.T['Action'])\n",
    "y2 = list(mean_sales.T['Adventure'])\n",
    "y3 = list(mean_sales.T['Fighting'])\n",
    "y4 = list(mean_sales.T['Misc'])\n",
    "y5 = list(mean_sales.T['Platform'])\n",
    "y6 = list(mean_sales.T['Puzzle'])\n",
    "y7 = list(mean_sales.T['Racing'])\n",
    "y8 = list(mean_sales.T['Role-Playing'])\n",
    "y9 = list(mean_sales.T['Shooter'])\n",
    "y10 = list(mean_sales.T['Simulation'])\n",
    "y11 = list(mean_sales.T['Sports'])\n",
    "y12= list(mean_sales.T['Strategy'])\n",
    "# print(mean_sales.T)\n",
    "width = 0.8\n",
    "\n",
    "fig, ax = plt.subplots(figsize=(16, 8))\n",
    "plt.style.use('seaborn')\n",
    "\n",
    "ax.bar(indx, y1, label='Action', color='red', width=width)\n",
    "ax.bar(indx, y2, label='Adventure', bottom=y1, color='#3091F2', width=width)\n",
    "ax.bar(indx, y3, label='Fighting', bottom=np.add(y1,y2), color='#C584E8', width=width)\n",
    "ax.bar(indx, y4, label='Misc', bottom=np.add(np.add(y2,y3),y1), color='#98949B', width=width)\n",
    "ax.bar(indx, y5, label='Platform', bottom=np.add(np.add(np.add(y4,y3),y2),y1), color='#F2E849', width=width)\n",
    "ax.bar(indx, y6, label='Puzzle', bottom=np.add(np.add(np.add(np.add(y5,y4),y3),y2),y1), color='#6AF249', width=width)\n",
    "ax.bar(indx, y7, label='Racing', bottom=np.add(np.add(np.add(np.add(np.add(y6,y5),y4),y3),y2),y1), color='#FE66B9', width=width)\n",
    "ax.bar(indx, y8, label='Role-Playing', bottom=np.add(np.add(np.add(np.add(np.add(np.add(y7,y6),y5),y4),y3),y2),y1), color='#D13E4D', width=width)\n",
    "ax.bar(indx, y9, label='Shooter', bottom=np.add(np.add(np.add(np.add(np.add(np.add(np.add(y8,y7),y6),y5),y4),y3),y2),y1), color='#4C4CF5', width=width)\n",
    "ax.bar(indx, y10, label='Simulation', bottom=np.add(np.add(np.add(np.add(np.add(np.add(np.add(np.add(y9,y8),y7),y6),y5),y4),y3),y2),y1), color='#A666DC', width=width)\n",
    "ax.bar(indx, y11, label='Sports', bottom=np.add(np.add(np.add(np.add(np.add(np.add(np.add(np.add(np.add(y10,y9),y8),y7),y6),y5),y4),y3),y2),y1), color='#646464', width=width)\n",
    "ax.bar(indx, y12, label='Strategy', bottom=np.add(np.add(np.add(np.add(np.add(np.add(np.add(np.add(np.add(np.add(y11,y10),y9),y8),y7),y6),y5),y4),y3),y2),y1), color='#FBE255', width=width)\n",
    "\n",
    "# ax.set_xticklabels([0] + list(subjects)) <-- Original\n",
    "# ax.set_xtick(indx)\n",
    "ax.set_xticklabels([0] + [' '] + ['NA_Sales'] + [' '] + ['EU_Sales'] + [' '] + ['JP_Sales'] + [' '] + ['Other_Sales']) # <-- Custom Sendiri\n",
    "ax.set_xlabel('Region Sales')\n",
    "ax.set_ylabel('Mean Sales')\n",
    "ax.set_title('Mean Sales Video Games By Genre')\n",
    "plt.legend()\n",
    "plt.show()"
   ]
  }
 ],
 "metadata": {
  "colab": {
   "collapsed_sections": [],
   "name": "muhammadfikrie1108@gmail.com.ipynb",
   "provenance": []
  },
  "kernelspec": {
   "display_name": "Python 3",
   "language": "python",
   "name": "python3"
  },
  "language_info": {
   "codemirror_mode": {
    "name": "ipython",
    "version": 3
   },
   "file_extension": ".py",
   "mimetype": "text/x-python",
   "name": "python",
   "nbconvert_exporter": "python",
   "pygments_lexer": "ipython3",
   "version": "3.8.5"
  }
 },
 "nbformat": 4,
 "nbformat_minor": 1
}
