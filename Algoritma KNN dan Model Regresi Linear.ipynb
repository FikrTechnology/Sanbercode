{
 "cells": [
  {
   "cell_type": "markdown",
   "metadata": {
    "id": "hTwOOghOYy-b"
   },
   "source": [
    "<h1>Quiz 1 : Pemahaman ALgoritma</h1>\n",
    "\n",
    "Jawab Pertanyaan di bawah ini dengan penyampaian bahasa sendiri!\n",
    "\n",
    "1. Bagaimana Process algoritma KNN?\n",
    "2. Jelaskan minimal 2 kekurangan dari Algoritma KNN?"
   ]
  },
  {
   "cell_type": "markdown",
   "metadata": {
    "id": "87dBx5oNYy-e"
   },
   "source": [
    "1. kNN dilakukan dengan mencari kelompok k objek dalam data training yang paling dekat (mirip) dengan objek pada data baru atau data testing\n",
    "\n",
    "2. - Perlu menunjukkan parameter K (jumlah tetangga terdekat) \n",
    "   - Tidak menangani nilai hilang (missing value) secara implisit \n",
    "   - Sensitif terhadap data pencilan (outlier) \n",
    "   - Rentan terhadap variabel yang non-informatif"
   ]
  },
  {
   "cell_type": "markdown",
   "metadata": {
    "id": "1uJquWgkYy-f"
   },
   "source": [
    "<h1>Quiz 2 : Pengaplikasian Algoritma KNN</h1>\n",
    "\n",
    "- Buatlah model KNN\n",
    "- Training model tersebut kepada data X_train dengan hyperparaeter kombinasi antara  2<= k <=20 dan weights bernilai 'uniform', dan 'distance'  \n",
    "- Lakukan prediksi terhadap data X_test untuk model di setiap kombinasi k dan weights\n",
    "- Score dengan accuracy dari hasil prediksi terhadap data X_test untuk setiap kombinasi hyperparameter, masukan score tersebut ke dalam objek list dengan di groupkan berdasarkan jenis weights, sehingga di akhir kita punya variable misalkan list_uniform_score, dan list_distance_score\n",
    "- Plot ke dua list tersebut dengan lineplot kedalam satu axis dan bandingkan hasilnya"
   ]
  },
  {
   "cell_type": "code",
   "execution_count": 1,
   "metadata": {
    "executionInfo": {
     "elapsed": 438,
     "status": "ok",
     "timestamp": 1627398522559,
     "user": {
      "displayName": "Muhammad Fikri",
      "photoUrl": "https://lh3.googleusercontent.com/a-/AOh14GiUZBH0_W7P-7ljuBxSmEU6Ott58x4r_Vq-PTlI=s64",
      "userId": "10875683560649930013"
     },
     "user_tz": -420
    },
    "id": "dgmBABOFYy-j"
   },
   "outputs": [],
   "source": [
    "from sklearn.datasets import load_wine\n",
    "import pandas as pd\n",
    "import numpy as np\n",
    "import matplotlib.pyplot as plt\n",
    "\n",
    "wine = load_wine()\n",
    "df = pd.DataFrame(np.c_[wine['data'], wine['target']], columns= wine['feature_names'] + ['class'])\n",
    "\n",
    "#Preprocessing data\n",
    "X = df.drop('class', axis=1)\n",
    "y = df['class']\n",
    "\n",
    "from sklearn.model_selection import train_test_split\n",
    "from sklearn.neighbors import KNeighborsClassifier\n",
    "from scipy import stats\n",
    "from sklearn.metrics import explained_variance_score\n",
    "\n",
    "X_train, X_test, y_train, y_test = train_test_split(X, y, test_size=0.2, random_state=21)"
   ]
  },
  {
   "cell_type": "code",
   "execution_count": 5,
   "metadata": {
    "colab": {
     "base_uri": "https://localhost:8080/"
    },
    "executionInfo": {
     "elapsed": 16,
     "status": "ok",
     "timestamp": 1627398717917,
     "user": {
      "displayName": "Muhammad Fikri",
      "photoUrl": "https://lh3.googleusercontent.com/a-/AOh14GiUZBH0_W7P-7ljuBxSmEU6Ott58x4r_Vq-PTlI=s64",
      "userId": "10875683560649930013"
     },
     "user_tz": -420
    },
    "id": "gnf3Rjb-Yy-r",
    "outputId": "3b10e006-7707-4f5c-d6d7-5cd30398dc39"
   },
   "outputs": [
    {
     "name": "stdout",
     "output_type": "stream",
     "text": [
      "Uniform ->  0.6944444444444444\n",
      "Distance ->  0.75\n"
     ]
    }
   ],
   "source": [
    "x = stats.zscore(X_train)\n",
    "\n",
    "model_knn1 = KNeighborsClassifier(n_neighbors=2, weights='uniform')\n",
    "model_knn2 = KNeighborsClassifier(n_neighbors=2, weights='distance')\n",
    "\n",
    "model_knn1.fit(X_train, y_train)\n",
    "y_tests = model_knn1.predict(X_test)\n",
    "score = model_knn1.score(X_test, y_test)\n",
    "\n",
    "model_knn2.fit(X_train, y_train)\n",
    "y_test1 = model_knn2.predict(X_test)\n",
    "score1 = model_knn2.score(X_test, y_test)\n",
    "\n",
    "print('Uniform -> ', score)\n",
    "print('Distance -> ', score1)\n",
    "\n",
    "# fig, ax = plt.subplots(figsize=(16, 8))\n",
    "# ax.plot(X, y)\n",
    "\n",
    "# plt.show()"
   ]
  },
  {
   "cell_type": "code",
   "execution_count": 8,
   "metadata": {
    "colab": {
     "base_uri": "https://localhost:8080/"
    },
    "executionInfo": {
     "elapsed": 430,
     "status": "ok",
     "timestamp": 1627399135790,
     "user": {
      "displayName": "Muhammad Fikri",
      "photoUrl": "https://lh3.googleusercontent.com/a-/AOh14GiUZBH0_W7P-7ljuBxSmEU6Ott58x4r_Vq-PTlI=s64",
      "userId": "10875683560649930013"
     },
     "user_tz": -420
    },
    "id": "4Uy0NgTlYy-6",
    "outputId": "64cd2007-d408-4124-d7fb-bea77c9d6174"
   },
   "outputs": [
    {
     "name": "stdout",
     "output_type": "stream",
     "text": [
      "Uniform Score ->  [0.8055555555555556, 0.9444444444444444, 0.8055555555555556, 0.9444444444444444, 1.0, 0.9166666666666666, 0.8888888888888888, 1.0, 1.0, 1.0277777777777777, 0.9444444444444444, 0.9722222222222222, 0.9444444444444444, 0.9722222222222222, 0.9166666666666666, 0.9722222222222222, 0.9444444444444444, 0.9722222222222222, 0.9166666666666666] \n",
      "\n",
      "Distance Score -> [0.8055555555555556, 0.9444444444444444, 0.8055555555555556, 0.9444444444444444, 1.0, 0.9166666666666666, 0.8888888888888888, 1.0, 1.0, 1.0277777777777777, 0.9444444444444444, 0.9722222222222222, 0.9444444444444444, 0.9722222222222222, 0.9166666666666666, 0.9722222222222222, 0.9444444444444444, 0.9722222222222222, 0.9166666666666666] \n",
      "\n"
     ]
    }
   ],
   "source": [
    "# Membuat model KNN\n",
    "model_u = []\n",
    "model_d = []\n",
    "# menggunakan Looping for\n",
    "for k_value in range(2, 21):\n",
    "    model_u.append(KNeighborsClassifier(n_neighbors=k_value, weights='uniform'))\n",
    "    model_d.append(KNeighborsClassifier(n_neighbors=k_value, weights='distance'))\n",
    "                   \n",
    "# model KNN belajar dari data (training)\n",
    "for k_value in range(len(model_u)):\n",
    "    model_u[k_value].fit(X_train, y_train[:len(X_train)])\n",
    "    model_d[k_value].fit(X_train, y_train[:len(X_train)])\n",
    "                   \n",
    "#prediksi hasil test X\n",
    "y_u = []\n",
    "y_d = []\n",
    "for k_value in range(len(model_u)):\n",
    "    y_u.append(model_u[k_value].predict(X_test).mean())\n",
    "    y_d.append(model_u[k_value].predict(X_test).mean())\n",
    "                   \n",
    "print('Uniform Score -> ', list(y_u), '\\n')\n",
    "print('Distance Score ->', list(y_d), '\\n')"
   ]
  },
  {
   "cell_type": "markdown",
   "metadata": {
    "id": "HQX6J-fQYy_A"
   },
   "source": [
    "Contoh hasil yang di harapkan :\n",
    "\n",
    "Uniform Scores -> [0.6944444444444444,\n",
    " 0.8055555555555556,\n",
    " 0.7222222222222222,\n",
    " 0.6666666666666666,\n",
    " 0.6388888888888888,\n",
    " 0.75,\n",
    " 0.6388888888888888,\n",
    " 0.6944444444444444,\n",
    " 0.6944444444444444,\n",
    " 0.7222222222222222,\n",
    " 0.6388888888888888,\n",
    " 0.6666666666666666,\n",
    " 0.6388888888888888,\n",
    " 0.6666666666666666,\n",
    " 0.6111111111111112,\n",
    " 0.6666666666666666,\n",
    " 0.6388888888888888,\n",
    " 0.6666666666666666,\n",
    " 0.6111111111111112]\n",
    " \n",
    " distance scores -> [0.75,\n",
    " 0.8333333333333334,\n",
    " 0.7777777777777778,\n",
    " 0.75,\n",
    " 0.7222222222222222,\n",
    " 0.75,\n",
    " 0.6944444444444444,\n",
    " 0.7222222222222222,\n",
    " 0.6944444444444444,\n",
    " 0.6944444444444444,\n",
    " 0.6944444444444444,\n",
    " 0.6944444444444444,\n",
    " 0.6944444444444444,\n",
    " 0.6666666666666666,\n",
    " 0.6666666666666666,\n",
    " 0.6666666666666666,\n",
    " 0.6666666666666666,\n",
    " 0.6666666666666666,\n",
    " 0.6666666666666666]\n",
    "\n",
    "![image.png](attachment:image.png)"
   ]
  },
  {
   "cell_type": "markdown",
   "metadata": {
    "id": "Zv7fAU09Yy_B"
   },
   "source": [
    "<h1>Quiz 3 : Pengaplikasian Model Linear Regression</h1>\n",
    "\n",
    "Applikasikan model linear regresi kedalam data berikut. Kemudian tunjukan parameter koefesien dan intercept dari model tersebut."
   ]
  },
  {
   "cell_type": "code",
   "execution_count": null,
   "metadata": {
    "id": "ual5UdpKYy_C"
   },
   "outputs": [],
   "source": [
    "import numpy as np\n",
    "\n",
    "rng = np.random.RandomState(1)\n",
    "\n",
    "X = 10 * rng.rand(50, 4)\n",
    "y = np.array([  0.9826564 ,  49.40390035,  85.76013175,  29.17254633,\n",
    "        11.270054  ,  61.53852735, -19.52503854,  10.10230867,\n",
    "        82.03058206,  45.72660678,  82.09252575,  90.78872391,\n",
    "        67.94178098,  39.97492762, 124.78866966,  85.24615819,\n",
    "        85.68491086,  80.39481211,  14.54591581, 137.19722354,\n",
    "        85.04063428,  94.76681927,  84.64289989,  38.76421156,\n",
    "        47.33953927,  94.50853335,  77.3276567 ,  -9.77846805,\n",
    "        61.13434468,  42.12124052,  26.65634335, 120.41593333,\n",
    "       138.08132504, 103.33745675, 145.64447692,  19.54777986,\n",
    "        87.40631024, 111.47327389,  95.94874761, 146.34817502,\n",
    "       118.10333528,  56.85956484, 108.57660235, 114.30790247,\n",
    "        40.27107041,  73.83871008,  45.52217182,  -7.57752547,\n",
    "       147.81772162, 139.40285349])"
   ]
  }
 ],
 "metadata": {
  "colab": {
   "collapsed_sections": [],
   "name": "muhammadfikrie1108@gmail.com.ipynb",
   "provenance": []
  },
  "kernelspec": {
   "display_name": "Python 3",
   "language": "python",
   "name": "python3"
  },
  "language_info": {
   "codemirror_mode": {
    "name": "ipython",
    "version": 3
   },
   "file_extension": ".py",
   "mimetype": "text/x-python",
   "name": "python",
   "nbconvert_exporter": "python",
   "pygments_lexer": "ipython3",
   "version": "3.8.5"
  }
 },
 "nbformat": 4,
 "nbformat_minor": 1
}
