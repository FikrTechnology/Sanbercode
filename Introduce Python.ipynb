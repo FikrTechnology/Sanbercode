{
 "cells": [
  {
   "cell_type": "markdown",
   "metadata": {
    "colab_type": "text",
    "id": "SaPZRa3rTBxJ"
   },
   "source": [
    "<h2>Quiz 1 : Hello World to Python</h2>\n",
    "    \n",
    "Print Say Hello World to Python"
   ]
  },
  {
   "cell_type": "code",
   "execution_count": 0,
   "metadata": {
    "colab": {},
    "colab_type": "code",
    "id": "KUiNOellTBxM"
   },
   "outputs": [],
   "source": [
    "print(\"Hello World Python\")"
   ]
  },
  {
   "cell_type": "markdown",
   "metadata": {
    "colab_type": "text",
    "id": "XEabTnclTBxU"
   },
   "source": [
    "Expected Output : \n",
    "\n",
    "Hello World Python"
   ]
  },
  {
   "cell_type": "markdown",
   "metadata": {
    "colab_type": "text",
    "id": "w-hwjMueTBxV"
   },
   "source": [
    "<h2>Quiz 2 : Aritmatika di Python </h2>\n",
    "    \n",
    "- Buat statement pertambahan antara 2 number di Python\n",
    "- Buat statement perkurangan antara 2 number di Python\n",
    "- Buat statement perkalian antara 2 number di Python\n",
    "- Buat statement pembagian antara 2 number di Python"
   ]
  },
  {
   "cell_type": "code",
   "execution_count": 0,
   "metadata": {
    "colab": {},
    "colab_type": "code",
    "id": "q7oWY3xtTBxW"
   },
   "outputs": [],
   "source": [
    "print(12 + 8)\n",
    "print(156 - 62)\n",
    "print(8 * 12)\n",
    "print(98 / 2)\n",
    "print(20 % 3)"
   ]
  },
  {
   "cell_type": "markdown",
   "metadata": {
    "colab_type": "text",
    "id": "3RcryAaATBxe"
   },
   "source": [
    "<h2>Quiz 3 : Assign Variable dan Tipe Data Integer, Float </h2>\n",
    "\n",
    "- Buat suatu variabel a dan b, dimana a dan b adalah nilai bertipe data numeric\n",
    "- Berikan suatu nilai bertipe data integer, hasil pembagian dari a dengan b\n",
    "- Berikan suatu nilai bertipe data float, hasil pembagian dari a dengan b"
   ]
  },
  {
   "cell_type": "code",
   "execution_count": 0,
   "metadata": {
    "colab": {},
    "colab_type": "code",
    "id": "F-MKBvK3TBxf"
   },
   "outputs": [],
   "source": [
    "a = 15\n",
    "b = 4\n",
    "\n",
    "#pembagian di dalam variable\n",
    "c = a // b #nanti hasil yang akan di keluarkan ber tipe 'int'\n",
    "d = a / b #nanti hasil yang akan di keluarkan ber tipe 'float'\n",
    "print(c)\n",
    "print(d)\n",
    "\n",
    "#adapun pembagian langsung di dalam print\n",
    "print(a//b)\n",
    "print(a/b)"
   ]
  },
  {
   "cell_type": "markdown",
   "metadata": {
    "colab_type": "text",
    "id": "tEK1DIzpTBxk"
   },
   "source": [
    "<h2>Quiz 4 : String Operation </h2>\n",
    "\n",
    "- masukan nama depan kamu kedalam suatu variable firstname\n",
    "- masukan nama belakang kamu kedalam suatu variable lasname\n",
    "- tampilkan suatu kalimat 'Hello sanbercode, saya firstname lastname! saya siap belajar python data science.'"
   ]
  },
  {
   "cell_type": "code",
   "execution_count": 0,
   "metadata": {
    "colab": {},
    "colab_type": "code",
    "id": "ueQUPbNlTBxl"
   },
   "outputs": [],
   "source": [
    "firstName = \"Muhammad\"\n",
    "lastName = \"Fikrie\"\n",
    "print(\"Hello sanbercode, \" + firstName + \" \" + lastName + \"! saya siap belajar python data science\")"
   ]
  },
  {
   "cell_type": "markdown",
   "metadata": {
    "colab_type": "text",
    "id": "XI5nkuHATBxr"
   },
   "source": [
    "Expected Output :\n",
    "\n",
    "Hello sanbercode, saya fauzan taufik! saya siap belajar python data science."
   ]
  },
  {
   "cell_type": "markdown",
   "metadata": {
    "colab_type": "text",
    "id": "JaE7K1CsTBxs"
   },
   "source": [
    "<h2>Quiz 5 : Tipe Data</h2>\n",
    "\n",
    "Lengkapi code di bawah ini untuk menghasilkan output yang sesuai"
   ]
  },
  {
   "cell_type": "code",
   "execution_count": 0,
   "metadata": {
    "colab": {},
    "colab_type": "code",
    "id": "avy-YRK4TBxs"
   },
   "outputs": [],
   "source": [
    "p = 9.99999\n",
    "q = 'the number : '\n",
    "print(q + ...(p))"
   ]
  },
  {
   "cell_type": "markdown",
   "metadata": {
    "colab_type": "text",
    "id": "ZOJwlzZzTBxz"
   },
   "source": [
    "Expected Output :\n",
    "\n",
    "the number : 9.99999"
   ]
  },
  {
   "cell_type": "code",
   "execution_count": 0,
   "metadata": {
    "colab": {},
    "colab_type": "code",
    "id": "pJuEojztTBx2"
   },
   "outputs": [],
   "source": [
    "p = 9.99999\n",
    "q = 'the number : '\n",
    "print(q + str(p))"
   ]
  }
 ],
 "metadata": {
  "colab": {
   "collapsed_sections": [],
   "name": "muhammadfikrie1108@gmail.com.ipynb",
   "provenance": []
  },
  "kernelspec": {
   "display_name": "Python 3",
   "language": "python",
   "name": "python3"
  },
  "language_info": {
   "codemirror_mode": {
    "name": "ipython",
    "version": 3
   },
   "file_extension": ".py",
   "mimetype": "text/x-python",
   "name": "python",
   "nbconvert_exporter": "python",
   "pygments_lexer": "ipython3",
   "version": "3.8.5"
  }
 },
 "nbformat": 4,
 "nbformat_minor": 1
}
