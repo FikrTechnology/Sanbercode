{
 "cells": [
  {
   "cell_type": "code",
   "execution_count": 1,
   "metadata": {
    "colab": {
     "base_uri": "https://localhost:8080/",
     "height": 204
    },
    "colab_type": "code",
    "executionInfo": {
     "elapsed": 1927,
     "status": "ok",
     "timestamp": 1588061018437,
     "user": {
      "displayName": "Muhammad Fikri",
      "photoUrl": "https://lh3.googleusercontent.com/a-/AOh14GiUZBH0_W7P-7ljuBxSmEU6Ott58x4r_Vq-PTlI=s64",
      "userId": "10875683560649930013"
     },
     "user_tz": -420
    },
    "id": "XqCH787iz3vE",
    "outputId": "982d86b1-d0b5-436a-c882-f978a36af52b"
   },
   "outputs": [
    {
     "data": {
      "text/html": [
       "<div>\n",
       "<style scoped>\n",
       "    .dataframe tbody tr th:only-of-type {\n",
       "        vertical-align: middle;\n",
       "    }\n",
       "\n",
       "    .dataframe tbody tr th {\n",
       "        vertical-align: top;\n",
       "    }\n",
       "\n",
       "    .dataframe thead th {\n",
       "        text-align: right;\n",
       "    }\n",
       "</style>\n",
       "<table border=\"1\" class=\"dataframe\">\n",
       "  <thead>\n",
       "    <tr style=\"text-align: right;\">\n",
       "      <th></th>\n",
       "      <th>siswa_id</th>\n",
       "      <th>pelajaran</th>\n",
       "      <th>nilai</th>\n",
       "      <th>jenis_kelamin</th>\n",
       "      <th>kelas</th>\n",
       "    </tr>\n",
       "  </thead>\n",
       "  <tbody>\n",
       "    <tr>\n",
       "      <th>0</th>\n",
       "      <td>1</td>\n",
       "      <td>Matematika</td>\n",
       "      <td>99</td>\n",
       "      <td>laki-laki</td>\n",
       "      <td>12D</td>\n",
       "    </tr>\n",
       "    <tr>\n",
       "      <th>1</th>\n",
       "      <td>2</td>\n",
       "      <td>Biologi</td>\n",
       "      <td>72</td>\n",
       "      <td>laki-laki</td>\n",
       "      <td>12C</td>\n",
       "    </tr>\n",
       "    <tr>\n",
       "      <th>2</th>\n",
       "      <td>3</td>\n",
       "      <td>Biologi</td>\n",
       "      <td>13</td>\n",
       "      <td>laki-laki</td>\n",
       "      <td>12B</td>\n",
       "    </tr>\n",
       "    <tr>\n",
       "      <th>3</th>\n",
       "      <td>4</td>\n",
       "      <td>Geologi</td>\n",
       "      <td>45</td>\n",
       "      <td>laki-laki</td>\n",
       "      <td>12B</td>\n",
       "    </tr>\n",
       "    <tr>\n",
       "      <th>4</th>\n",
       "      <td>5</td>\n",
       "      <td>Biologi</td>\n",
       "      <td>27</td>\n",
       "      <td>laki-laki</td>\n",
       "      <td>12C</td>\n",
       "    </tr>\n",
       "  </tbody>\n",
       "</table>\n",
       "</div>"
      ],
      "text/plain": [
       "   siswa_id   pelajaran  nilai jenis_kelamin kelas\n",
       "0         1  Matematika     99     laki-laki   12D\n",
       "1         2     Biologi     72     laki-laki   12C\n",
       "2         3     Biologi     13     laki-laki   12B\n",
       "3         4     Geologi     45     laki-laki   12B\n",
       "4         5     Biologi     27     laki-laki   12C"
      ]
     },
     "execution_count": 1,
     "metadata": {
      "tags": []
     },
     "output_type": "execute_result"
    }
   ],
   "source": [
    "# Persiapan membuat data\n",
    "import pandas as pd\n",
    "import random\n",
    "\n",
    "pelajaran = ['Matematika', 'Fisika', 'Biologi', 'Kimia', 'Geologi', 'Ekonomi']\n",
    "kelas = ['12A', '12B', '12C', '12D']\n",
    "\n",
    "hasil_nilai = {\n",
    "    'siswa_id' : range(1, 21),\n",
    "    'pelajaran' : [random.choice(pelajaran) for i in range(20)],\n",
    "    'nilai' : [random.choice(range(0, 100)) for i in range(20)],\n",
    "    'jenis_kelamin' : [random.choice(['laki-laki', 'perempuan']) for i in range(20)],\n",
    "    'kelas' : [random.choice(kelas) for i in range(20)]\n",
    "}\n",
    "\n",
    "df = pd.DataFrame(hasil_nilai)\n",
    "df.head()"
   ]
  },
  {
   "cell_type": "markdown",
   "metadata": {
    "colab_type": "text",
    "id": "w5Ee2bM2z3vd"
   },
   "source": [
    "<h2>Quiz 1 : Indexing</h2>\n",
    "\n",
    "1. Lakukan indexing terhadap dataframe untuk mengakses column nilai dan kelas saja\n",
    "2. Lakukan indexing terhadap dataframe untuk mengakses row 5 sampai 10 beserta column pelajaran dan nilai"
   ]
  },
  {
   "cell_type": "code",
   "execution_count": 2,
   "metadata": {
    "colab": {
     "base_uri": "https://localhost:8080/",
     "height": 669
    },
    "colab_type": "code",
    "executionInfo": {
     "elapsed": 2064,
     "status": "ok",
     "timestamp": 1588061023637,
     "user": {
      "displayName": "Muhammad Fikri",
      "photoUrl": "https://lh3.googleusercontent.com/a-/AOh14GiUZBH0_W7P-7ljuBxSmEU6Ott58x4r_Vq-PTlI=s64",
      "userId": "10875683560649930013"
     },
     "user_tz": -420
    },
    "id": "rKbP8ubBz3ve",
    "outputId": "965d3128-e3b0-4819-f045-99d08713edd1"
   },
   "outputs": [
    {
     "data": {
      "text/html": [
       "<div>\n",
       "<style scoped>\n",
       "    .dataframe tbody tr th:only-of-type {\n",
       "        vertical-align: middle;\n",
       "    }\n",
       "\n",
       "    .dataframe tbody tr th {\n",
       "        vertical-align: top;\n",
       "    }\n",
       "\n",
       "    .dataframe thead th {\n",
       "        text-align: right;\n",
       "    }\n",
       "</style>\n",
       "<table border=\"1\" class=\"dataframe\">\n",
       "  <thead>\n",
       "    <tr style=\"text-align: right;\">\n",
       "      <th></th>\n",
       "      <th>nilai</th>\n",
       "      <th>kelas</th>\n",
       "    </tr>\n",
       "  </thead>\n",
       "  <tbody>\n",
       "    <tr>\n",
       "      <th>0</th>\n",
       "      <td>99</td>\n",
       "      <td>12D</td>\n",
       "    </tr>\n",
       "    <tr>\n",
       "      <th>1</th>\n",
       "      <td>72</td>\n",
       "      <td>12C</td>\n",
       "    </tr>\n",
       "    <tr>\n",
       "      <th>2</th>\n",
       "      <td>13</td>\n",
       "      <td>12B</td>\n",
       "    </tr>\n",
       "    <tr>\n",
       "      <th>3</th>\n",
       "      <td>45</td>\n",
       "      <td>12B</td>\n",
       "    </tr>\n",
       "    <tr>\n",
       "      <th>4</th>\n",
       "      <td>27</td>\n",
       "      <td>12C</td>\n",
       "    </tr>\n",
       "    <tr>\n",
       "      <th>5</th>\n",
       "      <td>43</td>\n",
       "      <td>12C</td>\n",
       "    </tr>\n",
       "    <tr>\n",
       "      <th>6</th>\n",
       "      <td>66</td>\n",
       "      <td>12D</td>\n",
       "    </tr>\n",
       "    <tr>\n",
       "      <th>7</th>\n",
       "      <td>76</td>\n",
       "      <td>12D</td>\n",
       "    </tr>\n",
       "    <tr>\n",
       "      <th>8</th>\n",
       "      <td>2</td>\n",
       "      <td>12D</td>\n",
       "    </tr>\n",
       "    <tr>\n",
       "      <th>9</th>\n",
       "      <td>80</td>\n",
       "      <td>12D</td>\n",
       "    </tr>\n",
       "    <tr>\n",
       "      <th>10</th>\n",
       "      <td>66</td>\n",
       "      <td>12B</td>\n",
       "    </tr>\n",
       "    <tr>\n",
       "      <th>11</th>\n",
       "      <td>16</td>\n",
       "      <td>12A</td>\n",
       "    </tr>\n",
       "    <tr>\n",
       "      <th>12</th>\n",
       "      <td>58</td>\n",
       "      <td>12D</td>\n",
       "    </tr>\n",
       "    <tr>\n",
       "      <th>13</th>\n",
       "      <td>15</td>\n",
       "      <td>12B</td>\n",
       "    </tr>\n",
       "    <tr>\n",
       "      <th>14</th>\n",
       "      <td>44</td>\n",
       "      <td>12B</td>\n",
       "    </tr>\n",
       "    <tr>\n",
       "      <th>15</th>\n",
       "      <td>46</td>\n",
       "      <td>12A</td>\n",
       "    </tr>\n",
       "    <tr>\n",
       "      <th>16</th>\n",
       "      <td>51</td>\n",
       "      <td>12D</td>\n",
       "    </tr>\n",
       "    <tr>\n",
       "      <th>17</th>\n",
       "      <td>63</td>\n",
       "      <td>12D</td>\n",
       "    </tr>\n",
       "    <tr>\n",
       "      <th>18</th>\n",
       "      <td>5</td>\n",
       "      <td>12D</td>\n",
       "    </tr>\n",
       "    <tr>\n",
       "      <th>19</th>\n",
       "      <td>89</td>\n",
       "      <td>12C</td>\n",
       "    </tr>\n",
       "  </tbody>\n",
       "</table>\n",
       "</div>"
      ],
      "text/plain": [
       "    nilai kelas\n",
       "0      99   12D\n",
       "1      72   12C\n",
       "2      13   12B\n",
       "3      45   12B\n",
       "4      27   12C\n",
       "5      43   12C\n",
       "6      66   12D\n",
       "7      76   12D\n",
       "8       2   12D\n",
       "9      80   12D\n",
       "10     66   12B\n",
       "11     16   12A\n",
       "12     58   12D\n",
       "13     15   12B\n",
       "14     44   12B\n",
       "15     46   12A\n",
       "16     51   12D\n",
       "17     63   12D\n",
       "18      5   12D\n",
       "19     89   12C"
      ]
     },
     "execution_count": 2,
     "metadata": {
      "tags": []
     },
     "output_type": "execute_result"
    }
   ],
   "source": [
    "# code here\n",
    "# Untuk mengakses data dari column nilai dan kelas saja\n",
    "df.loc[0:, ['nilai', 'kelas']]"
   ]
  },
  {
   "cell_type": "code",
   "execution_count": 3,
   "metadata": {
    "colab": {
     "base_uri": "https://localhost:8080/",
     "height": 235
    },
    "colab_type": "code",
    "executionInfo": {
     "elapsed": 1898,
     "status": "ok",
     "timestamp": 1588061027277,
     "user": {
      "displayName": "Muhammad Fikri",
      "photoUrl": "https://lh3.googleusercontent.com/a-/AOh14GiUZBH0_W7P-7ljuBxSmEU6Ott58x4r_Vq-PTlI=s64",
      "userId": "10875683560649930013"
     },
     "user_tz": -420
    },
    "id": "1vLQ_XvUz3vk",
    "outputId": "fa32b8cb-5ae2-4425-82ba-9a31f83db687"
   },
   "outputs": [
    {
     "data": {
      "text/html": [
       "<div>\n",
       "<style scoped>\n",
       "    .dataframe tbody tr th:only-of-type {\n",
       "        vertical-align: middle;\n",
       "    }\n",
       "\n",
       "    .dataframe tbody tr th {\n",
       "        vertical-align: top;\n",
       "    }\n",
       "\n",
       "    .dataframe thead th {\n",
       "        text-align: right;\n",
       "    }\n",
       "</style>\n",
       "<table border=\"1\" class=\"dataframe\">\n",
       "  <thead>\n",
       "    <tr style=\"text-align: right;\">\n",
       "      <th></th>\n",
       "      <th>pelajaran</th>\n",
       "      <th>nilai</th>\n",
       "    </tr>\n",
       "  </thead>\n",
       "  <tbody>\n",
       "    <tr>\n",
       "      <th>5</th>\n",
       "      <td>Geologi</td>\n",
       "      <td>43</td>\n",
       "    </tr>\n",
       "    <tr>\n",
       "      <th>6</th>\n",
       "      <td>Kimia</td>\n",
       "      <td>66</td>\n",
       "    </tr>\n",
       "    <tr>\n",
       "      <th>7</th>\n",
       "      <td>Geologi</td>\n",
       "      <td>76</td>\n",
       "    </tr>\n",
       "    <tr>\n",
       "      <th>8</th>\n",
       "      <td>Biologi</td>\n",
       "      <td>2</td>\n",
       "    </tr>\n",
       "    <tr>\n",
       "      <th>9</th>\n",
       "      <td>Matematika</td>\n",
       "      <td>80</td>\n",
       "    </tr>\n",
       "    <tr>\n",
       "      <th>10</th>\n",
       "      <td>Matematika</td>\n",
       "      <td>66</td>\n",
       "    </tr>\n",
       "  </tbody>\n",
       "</table>\n",
       "</div>"
      ],
      "text/plain": [
       "     pelajaran  nilai\n",
       "5      Geologi     43\n",
       "6        Kimia     66\n",
       "7      Geologi     76\n",
       "8      Biologi      2\n",
       "9   Matematika     80\n",
       "10  Matematika     66"
      ]
     },
     "execution_count": 3,
     "metadata": {
      "tags": []
     },
     "output_type": "execute_result"
    }
   ],
   "source": [
    "# UNtuk mengakses data dari nomor 5-10 dan mengambil nilai dari column pelajaran dan nilai nya saja\n",
    "df.loc[5:10, ['pelajaran', 'nilai']]"
   ]
  },
  {
   "cell_type": "code",
   "execution_count": 4,
   "metadata": {
    "colab": {
     "base_uri": "https://localhost:8080/",
     "height": 235
    },
    "colab_type": "code",
    "executionInfo": {
     "elapsed": 3162,
     "status": "ok",
     "timestamp": 1588061030627,
     "user": {
      "displayName": "Muhammad Fikri",
      "photoUrl": "https://lh3.googleusercontent.com/a-/AOh14GiUZBH0_W7P-7ljuBxSmEU6Ott58x4r_Vq-PTlI=s64",
      "userId": "10875683560649930013"
     },
     "user_tz": -420
    },
    "id": "dvNCuBfxz3vx",
    "outputId": "d775a9fa-10bb-47bf-f4f0-f5c2c7efbde9"
   },
   "outputs": [
    {
     "data": {
      "text/html": [
       "<div>\n",
       "<style scoped>\n",
       "    .dataframe tbody tr th:only-of-type {\n",
       "        vertical-align: middle;\n",
       "    }\n",
       "\n",
       "    .dataframe tbody tr th {\n",
       "        vertical-align: top;\n",
       "    }\n",
       "\n",
       "    .dataframe thead th {\n",
       "        text-align: right;\n",
       "    }\n",
       "</style>\n",
       "<table border=\"1\" class=\"dataframe\">\n",
       "  <thead>\n",
       "    <tr style=\"text-align: right;\">\n",
       "      <th></th>\n",
       "      <th>siswa_id</th>\n",
       "      <th>pelajaran</th>\n",
       "      <th>nilai</th>\n",
       "      <th>jenis_kelamin</th>\n",
       "      <th>kelas</th>\n",
       "    </tr>\n",
       "  </thead>\n",
       "  <tbody>\n",
       "    <tr>\n",
       "      <th>5</th>\n",
       "      <td>6</td>\n",
       "      <td>Geologi</td>\n",
       "      <td>43</td>\n",
       "      <td>perempuan</td>\n",
       "      <td>12C</td>\n",
       "    </tr>\n",
       "    <tr>\n",
       "      <th>6</th>\n",
       "      <td>7</td>\n",
       "      <td>Kimia</td>\n",
       "      <td>66</td>\n",
       "      <td>laki-laki</td>\n",
       "      <td>12D</td>\n",
       "    </tr>\n",
       "    <tr>\n",
       "      <th>7</th>\n",
       "      <td>8</td>\n",
       "      <td>Geologi</td>\n",
       "      <td>76</td>\n",
       "      <td>laki-laki</td>\n",
       "      <td>12D</td>\n",
       "    </tr>\n",
       "    <tr>\n",
       "      <th>8</th>\n",
       "      <td>9</td>\n",
       "      <td>Biologi</td>\n",
       "      <td>2</td>\n",
       "      <td>laki-laki</td>\n",
       "      <td>12D</td>\n",
       "    </tr>\n",
       "    <tr>\n",
       "      <th>9</th>\n",
       "      <td>10</td>\n",
       "      <td>Matematika</td>\n",
       "      <td>80</td>\n",
       "      <td>laki-laki</td>\n",
       "      <td>12D</td>\n",
       "    </tr>\n",
       "    <tr>\n",
       "      <th>10</th>\n",
       "      <td>11</td>\n",
       "      <td>Matematika</td>\n",
       "      <td>66</td>\n",
       "      <td>perempuan</td>\n",
       "      <td>12B</td>\n",
       "    </tr>\n",
       "  </tbody>\n",
       "</table>\n",
       "</div>"
      ],
      "text/plain": [
       "    siswa_id   pelajaran  nilai jenis_kelamin kelas\n",
       "5          6     Geologi     43     perempuan   12C\n",
       "6          7       Kimia     66     laki-laki   12D\n",
       "7          8     Geologi     76     laki-laki   12D\n",
       "8          9     Biologi      2     laki-laki   12D\n",
       "9         10  Matematika     80     laki-laki   12D\n",
       "10        11  Matematika     66     perempuan   12B"
      ]
     },
     "execution_count": 4,
     "metadata": {
      "tags": []
     },
     "output_type": "execute_result"
    }
   ],
   "source": [
    "# Untuk mengakses nilai data dari nomor 5-10 Full\n",
    "df.loc[5:10]"
   ]
  },
  {
   "cell_type": "markdown",
   "metadata": {
    "colab_type": "text",
    "id": "6LhR-bl5z3v7"
   },
   "source": [
    "<h2>Quiz 2 : Filter DataFrame Dengan Boolean</h2>\n",
    "\n",
    "1. Tampilkan semua data siswa pada mata pelajaran Ekonomi dan Fisika\n",
    "2. Tampilkan semua data siswa yang mempunyai nilai lebih dari 50 di mata pelajaran Kimia \n",
    "3. Tampilkan semua data yang mempunyai nilai lebih dari 70, berjnis kelamin perempuan dan di kelas 12C"
   ]
  },
  {
   "cell_type": "code",
   "execution_count": 5,
   "metadata": {
    "colab": {
     "base_uri": "https://localhost:8080/",
     "height": 68
    },
    "colab_type": "code",
    "executionInfo": {
     "elapsed": 2581,
     "status": "ok",
     "timestamp": 1588061033667,
     "user": {
      "displayName": "Muhammad Fikri",
      "photoUrl": "https://lh3.googleusercontent.com/a-/AOh14GiUZBH0_W7P-7ljuBxSmEU6Ott58x4r_Vq-PTlI=s64",
      "userId": "10875683560649930013"
     },
     "user_tz": -420
    },
    "id": "hV4tEHzoz3v9",
    "outputId": "9825962c-7e75-478c-aa2e-66ccbaf88910"
   },
   "outputs": [
    {
     "name": "stdout",
     "output_type": "stream",
     "text": [
      "=====Jawaban No.1=====\n",
      "    siswa_id pelajaran  nilai jenis_kelamin kelas\n",
      "18        19   Ekonomi      5     laki-laki   12D\n"
     ]
    }
   ],
   "source": [
    "# code here\n",
    "print(\"=====Jawaban No.1=====\")\n",
    "data_ekonomi = df.pelajaran == 'Ekonomi'\n",
    "data_fisika = df.pelajaran == 'Fisika'\n",
    "print(df[(data_ekonomi) | (data_fisika)])"
   ]
  },
  {
   "cell_type": "code",
   "execution_count": 6,
   "metadata": {
    "colab": {
     "base_uri": "https://localhost:8080/",
     "height": 80
    },
    "colab_type": "code",
    "executionInfo": {
     "elapsed": 2219,
     "status": "ok",
     "timestamp": 1588061035918,
     "user": {
      "displayName": "Muhammad Fikri",
      "photoUrl": "https://lh3.googleusercontent.com/a-/AOh14GiUZBH0_W7P-7ljuBxSmEU6Ott58x4r_Vq-PTlI=s64",
      "userId": "10875683560649930013"
     },
     "user_tz": -420
    },
    "id": "WJJw8otoz3wJ",
    "outputId": "cc03fed8-0a12-4c6c-82e7-723c71fbc639"
   },
   "outputs": [
    {
     "data": {
      "text/html": [
       "<div>\n",
       "<style scoped>\n",
       "    .dataframe tbody tr th:only-of-type {\n",
       "        vertical-align: middle;\n",
       "    }\n",
       "\n",
       "    .dataframe tbody tr th {\n",
       "        vertical-align: top;\n",
       "    }\n",
       "\n",
       "    .dataframe thead th {\n",
       "        text-align: right;\n",
       "    }\n",
       "</style>\n",
       "<table border=\"1\" class=\"dataframe\">\n",
       "  <thead>\n",
       "    <tr style=\"text-align: right;\">\n",
       "      <th></th>\n",
       "      <th>siswa_id</th>\n",
       "      <th>pelajaran</th>\n",
       "      <th>nilai</th>\n",
       "      <th>jenis_kelamin</th>\n",
       "      <th>kelas</th>\n",
       "    </tr>\n",
       "  </thead>\n",
       "  <tbody>\n",
       "    <tr>\n",
       "      <th>18</th>\n",
       "      <td>19</td>\n",
       "      <td>Ekonomi</td>\n",
       "      <td>5</td>\n",
       "      <td>laki-laki</td>\n",
       "      <td>12D</td>\n",
       "    </tr>\n",
       "  </tbody>\n",
       "</table>\n",
       "</div>"
      ],
      "text/plain": [
       "    siswa_id pelajaran  nilai jenis_kelamin kelas\n",
       "18        19   Ekonomi      5     laki-laki   12D"
      ]
     },
     "execution_count": 6,
     "metadata": {
      "tags": []
     },
     "output_type": "execute_result"
    }
   ],
   "source": [
    "dp_gabungan = (df['pelajaran'] == 'Ekonomi') | (df['pelajaran'] == 'Fisika')\n",
    "df[dp_gabungan]"
   ]
  },
  {
   "cell_type": "code",
   "execution_count": 7,
   "metadata": {
    "colab": {
     "base_uri": "https://localhost:8080/",
     "height": 68
    },
    "colab_type": "code",
    "executionInfo": {
     "elapsed": 964,
     "status": "ok",
     "timestamp": 1588061040176,
     "user": {
      "displayName": "Muhammad Fikri",
      "photoUrl": "https://lh3.googleusercontent.com/a-/AOh14GiUZBH0_W7P-7ljuBxSmEU6Ott58x4r_Vq-PTlI=s64",
      "userId": "10875683560649930013"
     },
     "user_tz": -420
    },
    "id": "jgOyxe5Fz3wR",
    "outputId": "8e9deaa1-afec-45de-fdb9-3b63660a6406"
   },
   "outputs": [
    {
     "name": "stdout",
     "output_type": "stream",
     "text": [
      "=====Jawaban No.2=====\n",
      "   siswa_id pelajaran  nilai jenis_kelamin kelas\n",
      "6         7     Kimia     66     laki-laki   12D\n"
     ]
    }
   ],
   "source": [
    "print(\"=====Jawaban No.2=====\")\n",
    "data_kimia = df.pelajaran == 'Kimia'\n",
    "data_nilai = df.nilai > 50\n",
    "print(df[(data_kimia) & (data_nilai)])"
   ]
  },
  {
   "cell_type": "code",
   "execution_count": 8,
   "metadata": {
    "colab": {
     "base_uri": "https://localhost:8080/",
     "height": 80
    },
    "colab_type": "code",
    "executionInfo": {
     "elapsed": 959,
     "status": "ok",
     "timestamp": 1588061042095,
     "user": {
      "displayName": "Muhammad Fikri",
      "photoUrl": "https://lh3.googleusercontent.com/a-/AOh14GiUZBH0_W7P-7ljuBxSmEU6Ott58x4r_Vq-PTlI=s64",
      "userId": "10875683560649930013"
     },
     "user_tz": -420
    },
    "id": "Vxhmimrzz3wc",
    "outputId": "84b6e9fa-2437-4af4-d73e-6c80034e3e76"
   },
   "outputs": [
    {
     "data": {
      "text/html": [
       "<div>\n",
       "<style scoped>\n",
       "    .dataframe tbody tr th:only-of-type {\n",
       "        vertical-align: middle;\n",
       "    }\n",
       "\n",
       "    .dataframe tbody tr th {\n",
       "        vertical-align: top;\n",
       "    }\n",
       "\n",
       "    .dataframe thead th {\n",
       "        text-align: right;\n",
       "    }\n",
       "</style>\n",
       "<table border=\"1\" class=\"dataframe\">\n",
       "  <thead>\n",
       "    <tr style=\"text-align: right;\">\n",
       "      <th></th>\n",
       "      <th>siswa_id</th>\n",
       "      <th>pelajaran</th>\n",
       "      <th>nilai</th>\n",
       "      <th>jenis_kelamin</th>\n",
       "      <th>kelas</th>\n",
       "    </tr>\n",
       "  </thead>\n",
       "  <tbody>\n",
       "    <tr>\n",
       "      <th>6</th>\n",
       "      <td>7</td>\n",
       "      <td>Kimia</td>\n",
       "      <td>66</td>\n",
       "      <td>laki-laki</td>\n",
       "      <td>12D</td>\n",
       "    </tr>\n",
       "  </tbody>\n",
       "</table>\n",
       "</div>"
      ],
      "text/plain": [
       "   siswa_id pelajaran  nilai jenis_kelamin kelas\n",
       "6         7     Kimia     66     laki-laki   12D"
      ]
     },
     "execution_count": 8,
     "metadata": {
      "tags": []
     },
     "output_type": "execute_result"
    }
   ],
   "source": [
    "dp_gabungan2 = (df['pelajaran'] == 'Kimia') & (df['nilai'] > 50)\n",
    "df[dp_gabungan2]"
   ]
  },
  {
   "cell_type": "code",
   "execution_count": 9,
   "metadata": {
    "colab": {
     "base_uri": "https://localhost:8080/",
     "height": 68
    },
    "colab_type": "code",
    "executionInfo": {
     "elapsed": 1289,
     "status": "ok",
     "timestamp": 1588061044435,
     "user": {
      "displayName": "Muhammad Fikri",
      "photoUrl": "https://lh3.googleusercontent.com/a-/AOh14GiUZBH0_W7P-7ljuBxSmEU6Ott58x4r_Vq-PTlI=s64",
      "userId": "10875683560649930013"
     },
     "user_tz": -420
    },
    "id": "LpW68qhGz3wm",
    "outputId": "79d3998a-4122-4982-a15c-6954a92e29bd"
   },
   "outputs": [
    {
     "name": "stdout",
     "output_type": "stream",
     "text": [
      "=====Jawaban No.3=====\n",
      "    siswa_id   pelajaran  nilai jenis_kelamin kelas\n",
      "19        20  Matematika     89     perempuan   12C\n"
     ]
    }
   ],
   "source": [
    "print(\"=====Jawaban No.3=====\")\n",
    "data_perempuan = df.jenis_kelamin == 'perempuan'\n",
    "data_kelas = df.kelas == '12C'\n",
    "data_nilai_perempuan = df.nilai > 70\n",
    "print(df[(data_perempuan) & (data_kelas) & (data_nilai_perempuan)])"
   ]
  },
  {
   "cell_type": "code",
   "execution_count": 10,
   "metadata": {
    "colab": {
     "base_uri": "https://localhost:8080/",
     "height": 80
    },
    "colab_type": "code",
    "executionInfo": {
     "elapsed": 799,
     "status": "ok",
     "timestamp": 1588061054700,
     "user": {
      "displayName": "Muhammad Fikri",
      "photoUrl": "https://lh3.googleusercontent.com/a-/AOh14GiUZBH0_W7P-7ljuBxSmEU6Ott58x4r_Vq-PTlI=s64",
      "userId": "10875683560649930013"
     },
     "user_tz": -420
    },
    "id": "SpI8WEzRz3wr",
    "outputId": "8e1b5292-ef68-483a-b7f9-0bff1921cfcc"
   },
   "outputs": [
    {
     "data": {
      "text/html": [
       "<div>\n",
       "<style scoped>\n",
       "    .dataframe tbody tr th:only-of-type {\n",
       "        vertical-align: middle;\n",
       "    }\n",
       "\n",
       "    .dataframe tbody tr th {\n",
       "        vertical-align: top;\n",
       "    }\n",
       "\n",
       "    .dataframe thead th {\n",
       "        text-align: right;\n",
       "    }\n",
       "</style>\n",
       "<table border=\"1\" class=\"dataframe\">\n",
       "  <thead>\n",
       "    <tr style=\"text-align: right;\">\n",
       "      <th></th>\n",
       "      <th>siswa_id</th>\n",
       "      <th>pelajaran</th>\n",
       "      <th>nilai</th>\n",
       "      <th>jenis_kelamin</th>\n",
       "      <th>kelas</th>\n",
       "    </tr>\n",
       "  </thead>\n",
       "  <tbody>\n",
       "    <tr>\n",
       "      <th>19</th>\n",
       "      <td>20</td>\n",
       "      <td>Matematika</td>\n",
       "      <td>89</td>\n",
       "      <td>perempuan</td>\n",
       "      <td>12C</td>\n",
       "    </tr>\n",
       "  </tbody>\n",
       "</table>\n",
       "</div>"
      ],
      "text/plain": [
       "    siswa_id   pelajaran  nilai jenis_kelamin kelas\n",
       "19        20  Matematika     89     perempuan   12C"
      ]
     },
     "execution_count": 10,
     "metadata": {
      "tags": []
     },
     "output_type": "execute_result"
    }
   ],
   "source": [
    "dp_gabungan3 = (df['jenis_kelamin'] == 'perempuan') & (df['kelas'] == '12C') & (df['nilai'] > 70)\n",
    "df[dp_gabungan3]"
   ]
  },
  {
   "cell_type": "markdown",
   "metadata": {
    "colab_type": "text",
    "id": "neT-xTIJz3w5"
   },
   "source": [
    "<h2>Quiz 3 : Data Transformation</h2>\n",
    "\n",
    "lakukan data transformasi terhadap column 'nilai' dengan fungsi transformasi, berikut rumus dari normalisasi\n",
    "\n",
    "![image.png](attachment:image.png)"
   ]
  },
  {
   "cell_type": "code",
   "execution_count": 11,
   "metadata": {
    "colab": {
     "base_uri": "https://localhost:8080/",
     "height": 297
    },
    "colab_type": "code",
    "executionInfo": {
     "elapsed": 948,
     "status": "ok",
     "timestamp": 1588061061659,
     "user": {
      "displayName": "Muhammad Fikri",
      "photoUrl": "https://lh3.googleusercontent.com/a-/AOh14GiUZBH0_W7P-7ljuBxSmEU6Ott58x4r_Vq-PTlI=s64",
      "userId": "10875683560649930013"
     },
     "user_tz": -420
    },
    "id": "i22FisB8z3w7",
    "outputId": "970c2712-0265-47e6-9005-bab275b154c4"
   },
   "outputs": [
    {
     "data": {
      "text/html": [
       "<div>\n",
       "<style scoped>\n",
       "    .dataframe tbody tr th:only-of-type {\n",
       "        vertical-align: middle;\n",
       "    }\n",
       "\n",
       "    .dataframe tbody tr th {\n",
       "        vertical-align: top;\n",
       "    }\n",
       "\n",
       "    .dataframe thead th {\n",
       "        text-align: right;\n",
       "    }\n",
       "</style>\n",
       "<table border=\"1\" class=\"dataframe\">\n",
       "  <thead>\n",
       "    <tr style=\"text-align: right;\">\n",
       "      <th></th>\n",
       "      <th>siswa_id</th>\n",
       "      <th>nilai</th>\n",
       "    </tr>\n",
       "  </thead>\n",
       "  <tbody>\n",
       "    <tr>\n",
       "      <th>count</th>\n",
       "      <td>20.00000</td>\n",
       "      <td>20.000000</td>\n",
       "    </tr>\n",
       "    <tr>\n",
       "      <th>mean</th>\n",
       "      <td>10.50000</td>\n",
       "      <td>48.800000</td>\n",
       "    </tr>\n",
       "    <tr>\n",
       "      <th>std</th>\n",
       "      <td>5.91608</td>\n",
       "      <td>28.500416</td>\n",
       "    </tr>\n",
       "    <tr>\n",
       "      <th>min</th>\n",
       "      <td>1.00000</td>\n",
       "      <td>2.000000</td>\n",
       "    </tr>\n",
       "    <tr>\n",
       "      <th>25%</th>\n",
       "      <td>5.75000</td>\n",
       "      <td>24.250000</td>\n",
       "    </tr>\n",
       "    <tr>\n",
       "      <th>50%</th>\n",
       "      <td>10.50000</td>\n",
       "      <td>48.500000</td>\n",
       "    </tr>\n",
       "    <tr>\n",
       "      <th>75%</th>\n",
       "      <td>15.25000</td>\n",
       "      <td>67.500000</td>\n",
       "    </tr>\n",
       "    <tr>\n",
       "      <th>max</th>\n",
       "      <td>20.00000</td>\n",
       "      <td>99.000000</td>\n",
       "    </tr>\n",
       "  </tbody>\n",
       "</table>\n",
       "</div>"
      ],
      "text/plain": [
       "       siswa_id      nilai\n",
       "count  20.00000  20.000000\n",
       "mean   10.50000  48.800000\n",
       "std     5.91608  28.500416\n",
       "min     1.00000   2.000000\n",
       "25%     5.75000  24.250000\n",
       "50%    10.50000  48.500000\n",
       "75%    15.25000  67.500000\n",
       "max    20.00000  99.000000"
      ]
     },
     "execution_count": 11,
     "metadata": {
      "tags": []
     },
     "output_type": "execute_result"
    }
   ],
   "source": [
    "df.describe()"
   ]
  },
  {
   "cell_type": "code",
   "execution_count": 12,
   "metadata": {
    "colab": {
     "base_uri": "https://localhost:8080/",
     "height": 374
    },
    "colab_type": "code",
    "executionInfo": {
     "elapsed": 802,
     "status": "ok",
     "timestamp": 1588061065461,
     "user": {
      "displayName": "Muhammad Fikri",
      "photoUrl": "https://lh3.googleusercontent.com/a-/AOh14GiUZBH0_W7P-7ljuBxSmEU6Ott58x4r_Vq-PTlI=s64",
      "userId": "10875683560649930013"
     },
     "user_tz": -420
    },
    "id": "BikKuLJHz3xI",
    "outputId": "05787182-15e6-4279-fb49-764ddc6732b1"
   },
   "outputs": [
    {
     "name": "stdout",
     "output_type": "stream",
     "text": [
      "0     99\n",
      "1     72\n",
      "2     13\n",
      "3     45\n",
      "4     27\n",
      "5     43\n",
      "6     66\n",
      "7     76\n",
      "8      2\n",
      "9     80\n",
      "10    66\n",
      "11    16\n",
      "12    58\n",
      "13    15\n",
      "14    44\n",
      "15    46\n",
      "16    51\n",
      "17    63\n",
      "18     5\n",
      "19    89\n",
      "Name: nilai, dtype: int64\n"
     ]
    }
   ],
   "source": [
    "# code here\n",
    "# Nilai awal sebelum di kurangi\n",
    "print(df.nilai)"
   ]
  },
  {
   "cell_type": "code",
   "execution_count": 13,
   "metadata": {
    "colab": {
     "base_uri": "https://localhost:8080/",
     "height": 34
    },
    "colab_type": "code",
    "executionInfo": {
     "elapsed": 1002,
     "status": "ok",
     "timestamp": 1588061072111,
     "user": {
      "displayName": "Muhammad Fikri",
      "photoUrl": "https://lh3.googleusercontent.com/a-/AOh14GiUZBH0_W7P-7ljuBxSmEU6Ott58x4r_Vq-PTlI=s64",
      "userId": "10875683560649930013"
     },
     "user_tz": -420
    },
    "id": "FEbM55Vbz3xS",
    "outputId": "260ac058-63a9-400c-8c4a-e9d2255c226e"
   },
   "outputs": [
    {
     "name": "stdout",
     "output_type": "stream",
     "text": [
      "2\n"
     ]
    }
   ],
   "source": [
    "# Nilai Minimun \n",
    "print(df.nilai.min())"
   ]
  },
  {
   "cell_type": "code",
   "execution_count": 0,
   "metadata": {
    "colab": {},
    "colab_type": "code",
    "id": "qlPM2SEEz3xZ"
   },
   "outputs": [],
   "source": [
    "def min_10(x):\n",
    "    return (x - 10)/(99 - 10)"
   ]
  },
  {
   "cell_type": "code",
   "execution_count": 16,
   "metadata": {
    "colab": {
     "base_uri": "https://localhost:8080/",
     "height": 374
    },
    "colab_type": "code",
    "executionInfo": {
     "elapsed": 917,
     "status": "ok",
     "timestamp": 1588061238629,
     "user": {
      "displayName": "Muhammad Fikri",
      "photoUrl": "https://lh3.googleusercontent.com/a-/AOh14GiUZBH0_W7P-7ljuBxSmEU6Ott58x4r_Vq-PTlI=s64",
      "userId": "10875683560649930013"
     },
     "user_tz": -420
    },
    "id": "CXKjQS6Hz3xh",
    "outputId": "f120bc66-0005-4d82-a51b-c543f79be077"
   },
   "outputs": [
    {
     "data": {
      "text/plain": [
       "0     1.000000\n",
       "1     0.696629\n",
       "2     0.033708\n",
       "3     0.393258\n",
       "4     0.191011\n",
       "5     0.370787\n",
       "6     0.629213\n",
       "7     0.741573\n",
       "8    -0.089888\n",
       "9     0.786517\n",
       "10    0.629213\n",
       "11    0.067416\n",
       "12    0.539326\n",
       "13    0.056180\n",
       "14    0.382022\n",
       "15    0.404494\n",
       "16    0.460674\n",
       "17    0.595506\n",
       "18   -0.056180\n",
       "19    0.887640\n",
       "Name: nilai, dtype: float64"
      ]
     },
     "execution_count": 16,
     "metadata": {
      "tags": []
     },
     "output_type": "execute_result"
    }
   ],
   "source": [
    "df['nilai'].apply(min_10)"
   ]
  }
 ],
 "metadata": {
  "colab": {
   "collapsed_sections": [],
   "name": "muhammadfikrie1108@gmail.com.ipynb",
   "provenance": []
  },
  "kernelspec": {
   "display_name": "Python 3",
   "language": "python",
   "name": "python3"
  },
  "language_info": {
   "codemirror_mode": {
    "name": "ipython",
    "version": 3
   },
   "file_extension": ".py",
   "mimetype": "text/x-python",
   "name": "python",
   "nbconvert_exporter": "python",
   "pygments_lexer": "ipython3",
   "version": "3.8.5"
  }
 },
 "nbformat": 4,
 "nbformat_minor": 1
}
