{
 "cells": [
  {
   "cell_type": "markdown",
   "metadata": {
    "id": "I6jmLA-RYrt5"
   },
   "source": [
    "<h2>Soal 1 : Helper Function</h2>\n",
    "\n",
    "Jawab Pertanyaan di bawah ini :\n",
    "\n",
    "Misalkan kamu ingin mengetahui tentang kegunaan fungsi 'len' di Python, maka fungsi apa yang bisa kamu gunakan untuk menolong kamu?"
   ]
  },
  {
   "cell_type": "code",
   "execution_count": null,
   "metadata": {
    "id": "VrvyQxGJYrt9"
   },
   "outputs": [],
   "source": [
    "# lengkapi code ini\n",
    ".....(len)"
   ]
  },
  {
   "cell_type": "code",
   "execution_count": null,
   "metadata": {
    "colab": {
     "base_uri": "https://localhost:8080/",
     "height": 119
    },
    "executionInfo": {
     "elapsed": 896,
     "status": "ok",
     "timestamp": 1587542107623,
     "user": {
      "displayName": "Muhammad Fikri",
      "photoUrl": "https://lh3.googleusercontent.com/a-/AOh14GiUZBH0_W7P-7ljuBxSmEU6Ott58x4r_Vq-PTlI=s64",
      "userId": "10875683560649930013"
     },
     "user_tz": -420
    },
    "id": "xjZOu83M4cHa",
    "outputId": "2c0afae9-7f70-4732-a963-49cb09492f25"
   },
   "outputs": [
    {
     "name": "stdout",
     "output_type": "stream",
     "text": [
      "Help on built-in function len in module builtins:\n",
      "\n",
      "len(obj, /)\n",
      "    Return the number of items in a container.\n",
      "\n",
      "None\n"
     ]
    }
   ],
   "source": [
    "print(help(len))"
   ]
  },
  {
   "cell_type": "markdown",
   "metadata": {
    "id": "KrcuFTuAYruT"
   },
   "source": [
    "<h2>Soal 2 : Built-in Function</h2>\n",
    "\n",
    "Jawab Pertanyaan di bawah ini :\n",
    "    \n",
    "Apa itu built-in Function?\n",
    "\n",
    "Sebutkan 3 built-in Function di pyhon!\n",
    "\n",
    "Berikan contoh masing2 1 cara penggunaan built-in function yang kamu sebutkan sebelumnya"
   ]
  },
  {
   "cell_type": "markdown",
   "metadata": {
    "id": "xro-58_CYruW"
   },
   "source": [
    "1. ***Build-in Function adalah variabel yang sudah ada di dalam Python. Hanya bisa diakses di dalam fungsi tempat ia berada saja***.\n",
    "2. - ***len() untuk mengambil panjang objek di dalam list***\n",
    "   - ***max() = untuk mengambil nilai terbesar di dalam list***\n",
    "   - ***min() = untuk mengambil nilai terkecil di dalam list***\n",
    "   - ***append() = untuk menambahkan item di akhir list***."
   ]
  },
  {
   "cell_type": "code",
   "execution_count": null,
   "metadata": {
    "colab": {
     "base_uri": "https://localhost:8080/",
     "height": 102
    },
    "executionInfo": {
     "elapsed": 1122,
     "status": "ok",
     "timestamp": 1587542190553,
     "user": {
      "displayName": "Muhammad Fikri",
      "photoUrl": "https://lh3.googleusercontent.com/a-/AOh14GiUZBH0_W7P-7ljuBxSmEU6Ott58x4r_Vq-PTlI=s64",
      "userId": "10875683560649930013"
     },
     "user_tz": -420
    },
    "id": "Xv7lHkgfYruY",
    "outputId": "6a845666-1603-4368-a31f-06d37bdfa8c1"
   },
   "outputs": [
    {
     "name": "stdout",
     "output_type": "stream",
     "text": [
      "[98, 70, 50, 80, 85, 95]\n",
      "6\n",
      "50\n",
      "98\n",
      "[98, 70, 50, 80, 85, 95, 100]\n"
     ]
    }
   ],
   "source": [
    "nilai_rapot = [98, 70, 50, 80,85, 95]\n",
    "\n",
    "print(nilai_rapot)\n",
    "\n",
    "print(len(nilai_rapot))\n",
    "print(min(nilai_rapot))\n",
    "print(max(nilai_rapot))\n",
    "nilai_rapot.append(100)\n",
    "\n",
    "print(nilai_rapot)"
   ]
  },
  {
   "cell_type": "markdown",
   "metadata": {
    "id": "yhWXiPNDYrul"
   },
   "source": [
    "<h2>Soal 3 : Method dan Function</h2>\n",
    "\n",
    "Jawab Pertanyaan di bawah ini :\n",
    "    \n",
    "- Apa perbedaan method dan function?"
   ]
  },
  {
   "cell_type": "markdown",
   "metadata": {
    "id": "rqpTJlgDYrun"
   },
   "source": [
    "***Function adalah sebuah statement yang dibuat di dalam blok dengan cara penulisan yang telah ditentukan, agar dapat digunakan terus menerus. Sehingga tidak ada penulisan code yang berulang***.\n",
    "\n",
    "***method adalah statement blok yang didefinisikan di dalam sebuah class***."
   ]
  },
  {
   "cell_type": "markdown",
   "metadata": {
    "id": "tUU1xgYBYrup"
   },
   "source": [
    "<h2>Soal 4 : Menggunkan Method String</h2>\n",
    "\n",
    "Lengkapi kode untuk menghasilkan suatu output yang di harapkan"
   ]
  },
  {
   "cell_type": "code",
   "execution_count": null,
   "metadata": {
    "id": "037gauOGYrur"
   },
   "outputs": [],
   "source": [
    "kalimat = \"Corona cepat selesai\"\n",
    "\n",
    "# gunakan method untuk mengubah nilai kalimat menjadi uppercase semua kemudian tampilkan hasilnya\n",
    "print(.....)\n",
    "\n",
    "# gunakan method untuk menghitung berapa huruf e di dalam kalimat\n",
    "print(.....)"
   ]
  },
  {
   "cell_type": "markdown",
   "metadata": {
    "id": "fPTd4R5VYru5"
   },
   "source": [
    "Expected Output :\n",
    "\n",
    "CORONA CEPAT SELESAI\n",
    "\n",
    "3"
   ]
  },
  {
   "cell_type": "code",
   "execution_count": null,
   "metadata": {
    "colab": {
     "base_uri": "https://localhost:8080/",
     "height": 51
    },
    "executionInfo": {
     "elapsed": 1012,
     "status": "ok",
     "timestamp": 1587542317208,
     "user": {
      "displayName": "Muhammad Fikri",
      "photoUrl": "https://lh3.googleusercontent.com/a-/AOh14GiUZBH0_W7P-7ljuBxSmEU6Ott58x4r_Vq-PTlI=s64",
      "userId": "10875683560649930013"
     },
     "user_tz": -420
    },
    "id": "oBBZV_6G4cH1",
    "outputId": "754d939d-0b1f-458d-942a-5e6ce3989777"
   },
   "outputs": [
    {
     "name": "stdout",
     "output_type": "stream",
     "text": [
      "CORONA CEPAT SELESAI\n",
      "3\n"
     ]
    }
   ],
   "source": [
    "kalimat = \"Corona cepat selesai\"\n",
    "\n",
    "# gunakan method untuk mengubah nilai kalimat menjadi uppercase semua kemudian tampilkan hasilnya\n",
    "print(kalimat.upper())\n",
    "\n",
    "# gunakan method untuk menghitung berapa huruf e di dalam kalimat\n",
    "print(kalimat.count('e'))"
   ]
  },
  {
   "cell_type": "markdown",
   "metadata": {
    "id": "tH44SxdOYru7"
   },
   "source": [
    "<h2>Soal 5 : Menggunkan Method List</h2>\n",
    "\n",
    "Lengkapi kode untuk menghasilkan suatu output yang di harapkan"
   ]
  },
  {
   "cell_type": "code",
   "execution_count": null,
   "metadata": {
    "id": "Mds3oCEtYru9"
   },
   "outputs": [],
   "source": [
    "areas = [11.25, 18.0, 20.0, 10.75, 9.50]\n",
    "\n",
    "# gunakan suatu method dari object list untuk menampilkan index dari nilai 20\n",
    "print(.....)\n",
    "\n",
    "# gunakan suatu method dari object list untuk menambahkan nilai 15.5 kedalam list ke index terakhirnya\n",
    "......\n",
    "print(areas)"
   ]
  },
  {
   "cell_type": "markdown",
   "metadata": {
    "id": "1ik5BXfhYrvI"
   },
   "source": [
    "Expected Output :\n",
    "\n",
    "2\n",
    "\n",
    "[11.25, 18.0, 20.0, 10.75, 9.50, 15.5]"
   ]
  },
  {
   "cell_type": "code",
   "execution_count": null,
   "metadata": {
    "colab": {
     "base_uri": "https://localhost:8080/",
     "height": 51
    },
    "executionInfo": {
     "elapsed": 1671,
     "status": "ok",
     "timestamp": 1587542335498,
     "user": {
      "displayName": "Muhammad Fikri",
      "photoUrl": "https://lh3.googleusercontent.com/a-/AOh14GiUZBH0_W7P-7ljuBxSmEU6Ott58x4r_Vq-PTlI=s64",
      "userId": "10875683560649930013"
     },
     "user_tz": -420
    },
    "id": "Q-ph6WGv4cID",
    "outputId": "78b2b7b1-29b2-4de5-cf08-ed6348845b0d"
   },
   "outputs": [
    {
     "name": "stdout",
     "output_type": "stream",
     "text": [
      "2\n",
      "[11.25, 18.0, 20.0, 10.75, 9.5, 15.5]\n"
     ]
    }
   ],
   "source": [
    "areas = [11.25, 18.0, 20.0, 10.75, 9.50]\n",
    "\n",
    "# gunakan suatu method dari object list untuk menampilkan index dari nilai 20\n",
    "print(areas.index(20.0))\n",
    "\n",
    "# gunakan suatu method dari object list untuk menambahkan nilai 15.5 kedalam list ke index terakhirnya\n",
    "areas.append(15.5)\n",
    "print(areas)"
   ]
  },
  {
   "cell_type": "markdown",
   "metadata": {
    "id": "IPjp5vwDYrvL"
   },
   "source": [
    "<h2>Soal 6 : Membuat Simple Function</h2>\n",
    "\n",
    "Buatlah suatu fungsi yang menerima satu input argumen berbentuk list dan mempunyai elemen bertipe numeric semua, dimana fungsi tersebut berguna untuk menghitung rata2 dari kumpulan elemen list tersebut. namai fungsi tersebut 'mean_list'"
   ]
  },
  {
   "cell_type": "code",
   "execution_count": null,
   "metadata": {
    "id": "smoKI9zIYrvO"
   },
   "outputs": [],
   "source": [
    "obj_list = [11.25, 18.0, 20.0, 10.75, 9.50]\n",
    "def mean_list(inp_list):\n",
    "    # isikan code\n",
    "    \n",
    "print(mean_list(obj_list))"
   ]
  },
  {
   "cell_type": "markdown",
   "metadata": {
    "id": "MVAvoHHgYrva"
   },
   "source": [
    "Expected Output :\n",
    "\n",
    "13.9"
   ]
  },
  {
   "cell_type": "code",
   "execution_count": null,
   "metadata": {
    "colab": {
     "base_uri": "https://localhost:8080/",
     "height": 34
    },
    "executionInfo": {
     "elapsed": 923,
     "status": "ok",
     "timestamp": 1587542344438,
     "user": {
      "displayName": "Muhammad Fikri",
      "photoUrl": "https://lh3.googleusercontent.com/a-/AOh14GiUZBH0_W7P-7ljuBxSmEU6Ott58x4r_Vq-PTlI=s64",
      "userId": "10875683560649930013"
     },
     "user_tz": -420
    },
    "id": "6fGbv2X34cIO",
    "outputId": "c680612d-cfc5-4ec4-81f6-4b6ccd27e7b9"
   },
   "outputs": [
    {
     "name": "stdout",
     "output_type": "stream",
     "text": [
      "13.9\n"
     ]
    }
   ],
   "source": [
    "obj_list = [11.25, 18.0, 20.0, 10.75, 9.50]\n",
    "def mean_list(inp_list):\n",
    "    rata2 = format(sum(obj_list) / 5)\n",
    "    return rata2\n",
    "    \n",
    "print(mean_list(obj_list))"
   ]
  },
  {
   "cell_type": "markdown",
   "metadata": {
    "id": "A8jjpNC8Yrvc"
   },
   "source": [
    "<h2>Soal 7 : Membuat Function dengan Multiple arguments</h2>\n",
    "\n",
    "Buatlah suatu fungsi untuk melakukan penggabungan antara dua list"
   ]
  },
  {
   "cell_type": "code",
   "execution_count": null,
   "metadata": {
    "id": "r42z4mafYrve"
   },
   "outputs": [],
   "source": [
    "obj_list = [2, 4, 5, 6]\n",
    "obj_pengali = [1, 2, 3]\n",
    "def kali_list(....., .....):\n",
    "    # isikan kode\n",
    "    \n",
    "    \n",
    "print(kali_list(obj_list, obj_pengali))"
   ]
  },
  {
   "cell_type": "markdown",
   "metadata": {
    "id": "RYhU921kYrvp"
   },
   "source": [
    "Expected Output :\n",
    "\n",
    "[2, 4, 5, 6, 1, 2, 3]"
   ]
  },
  {
   "cell_type": "code",
   "execution_count": null,
   "metadata": {
    "colab": {
     "base_uri": "https://localhost:8080/",
     "height": 34
    },
    "executionInfo": {
     "elapsed": 1076,
     "status": "ok",
     "timestamp": 1587542351678,
     "user": {
      "displayName": "Muhammad Fikri",
      "photoUrl": "https://lh3.googleusercontent.com/a-/AOh14GiUZBH0_W7P-7ljuBxSmEU6Ott58x4r_Vq-PTlI=s64",
      "userId": "10875683560649930013"
     },
     "user_tz": -420
    },
    "id": "kXAa6bei4cIa",
    "outputId": "4f492f1e-92a2-45fe-dd00-14f1afb45e83"
   },
   "outputs": [
    {
     "name": "stdout",
     "output_type": "stream",
     "text": [
      "[2, 4, 5, 6, 1, 2, 3]\n"
     ]
    }
   ],
   "source": [
    "obj_list = [2, 4, 5, 6]\n",
    "obj_pengali = [1, 2, 3]\n",
    "def kali_list(obj_list, obj_pengali):\n",
    "    hasil = obj_list + obj_pengali\n",
    "    return hasil\n",
    "    \n",
    "    \n",
    "print(kali_list(obj_list, obj_pengali))"
   ]
  }
 ],
 "metadata": {
  "colab": {
   "collapsed_sections": [],
   "name": "muhammadfikrie1108@gmail.com.ipynb",
   "provenance": []
  },
  "kernelspec": {
   "display_name": "Python 3",
   "language": "python",
   "name": "python3"
  },
  "language_info": {
   "codemirror_mode": {
    "name": "ipython",
    "version": 3
   },
   "file_extension": ".py",
   "mimetype": "text/x-python",
   "name": "python",
   "nbconvert_exporter": "python",
   "pygments_lexer": "ipython3",
   "version": "3.8.5"
  }
 },
 "nbformat": 4,
 "nbformat_minor": 1
}
