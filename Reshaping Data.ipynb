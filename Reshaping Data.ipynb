{
 "cells": [
  {
   "cell_type": "markdown",
   "metadata": {
    "id": "0kQhZ-5bKrxR"
   },
   "source": [
    "<h2>Quiz 1 : Pivoting and Melting</h2>\n",
    "\n",
    "Jelaskan itu pivoting dan melting data"
   ]
  },
  {
   "cell_type": "markdown",
   "metadata": {
    "id": "O7OpqeB9KrxX"
   },
   "source": [
    "jawaban :\n",
    "\n",
    "***1. Pivoting adalah suatu pengubahan bentuk data dengan memutar data yang terletak di baris menjadi di column. Kita juga dapat mengatakan pivoting tabel adalah melakukan perubahan pada bentuk data dari yang tadinya panjang menjadi lebar.***\n",
    "\n",
    "***2. Melting adalah ‘unpivoting’, melting mengubah suatu data dengan memutar dari yang tadinya berada di posisi column menjadi di posisi row. Melting mengubah data yang tadinya lebar menjadi panjang.***\n"
   ]
  },
  {
   "cell_type": "markdown",
   "metadata": {
    "id": "jImnOOlTKrxa"
   },
   "source": [
    "<h2>Quiz 2 : Data structure Comprehension</h2>\n",
    "\n",
    "Data yang rapi adalah :\n",
    "1. Setiap row menunjukan suatu unit observasi\n",
    "2. Setiap column merupakan suatu unit variable\n",
    "\n",
    "Bagaimana pun, dalam menentukan unit observasi itu tergantung dari kasus yang di hadapi. sebagai seorang data scientist pasti akan menemukan berbagai bentuk struktur data. adalah sangat penting bagi seorang data scientist untuk dapat memahami dan menjelaskan setiap struktur data. Kemampuan memahami hubungan antara index baris, column dan isi data adalah kunci untuk memahami informasi apa yang data sedang beritahukan kepada kita.\n",
    "\n",
    "Di bawah ini terdapat 2 data yang berisi sama, tetapi memiliki struktur yang berbeda. Jelaskan perbedaan dari 2 struktur data tersebut"
   ]
  },
  {
   "cell_type": "markdown",
   "metadata": {
    "id": "HYtZqGxLKrxc"
   },
   "source": [
    "![alt text](https://drive.google.com/uc?id=1h13CDPzIjc-2XyRcyu-p1fet0Ep1gdMA)"
   ]
  },
  {
   "cell_type": "markdown",
   "metadata": {
    "id": "nn4EuLbnKrxf"
   },
   "source": [
    "![alt text](https://drive.google.com/uc?id=12ji98ell5tNcCxeBzl4v8qqBtFMgDSr0)"
   ]
  },
  {
   "cell_type": "markdown",
   "metadata": {
    "id": "_fixNOUAKrxh"
   },
   "source": [
    "***1. Gambar pertama menggunakan metode Pivot, mengubah yang semula panjang menjadi melebar, index nya yang tadi berupa tipe ujian menjadi Mata pelajaran, dan column(variable) nya menggunakan nilai dari mata mata pelajaran***\n",
    "\n",
    "***2. Gambar kedua menggunakan metode melting (unpivot), mengubah yang semula melebar menjadi panjang, index nya menggunakan tipe ujian, Column(variable) menggunakan Mata Pelajaran & Value(nilai) nya Fisika, MTK, dan Statistika, begitu pun juga column Rata-rata waktu belajar.***"
   ]
  },
  {
   "cell_type": "markdown",
   "metadata": {
    "id": "Vxig2IeYKrxj"
   },
   "source": [
    "<h2>Quiz 3 : Reshaping Data 1</h2>"
   ]
  },
  {
   "cell_type": "code",
   "execution_count": null,
   "metadata": {
    "colab": {
     "base_uri": "https://localhost:8080/",
     "height": 421
    },
    "executionInfo": {
     "elapsed": 1341,
     "status": "ok",
     "timestamp": 1588141325121,
     "user": {
      "displayName": "Muhammad Fikri",
      "photoUrl": "https://lh3.googleusercontent.com/a-/AOh14GiUZBH0_W7P-7ljuBxSmEU6Ott58x4r_Vq-PTlI=s64",
      "userId": "10875683560649930013"
     },
     "user_tz": -420
    },
    "id": "4Jp7bLWNKrxl",
    "outputId": "d2dc5478-623b-4612-c369-e8f63e0ab550"
   },
   "outputs": [
    {
     "data": {
      "text/html": [
       "<div>\n",
       "<style scoped>\n",
       "    .dataframe tbody tr th:only-of-type {\n",
       "        vertical-align: middle;\n",
       "    }\n",
       "\n",
       "    .dataframe tbody tr th {\n",
       "        vertical-align: top;\n",
       "    }\n",
       "\n",
       "    .dataframe thead th {\n",
       "        text-align: right;\n",
       "    }\n",
       "</style>\n",
       "<table border=\"1\" class=\"dataframe\">\n",
       "  <thead>\n",
       "    <tr style=\"text-align: right;\">\n",
       "      <th></th>\n",
       "      <th>Tipe Ujian</th>\n",
       "      <th>Mata Pelajaran</th>\n",
       "      <th>Rata2 Waktu Belajar (menit)</th>\n",
       "      <th>Rata2 Nilai Ujian</th>\n",
       "    </tr>\n",
       "  </thead>\n",
       "  <tbody>\n",
       "    <tr>\n",
       "      <th>0</th>\n",
       "      <td>UTS1</td>\n",
       "      <td>Fisika</td>\n",
       "      <td>406</td>\n",
       "      <td>61</td>\n",
       "    </tr>\n",
       "    <tr>\n",
       "      <th>1</th>\n",
       "      <td>UAS1</td>\n",
       "      <td>Fisika</td>\n",
       "      <td>539</td>\n",
       "      <td>53</td>\n",
       "    </tr>\n",
       "    <tr>\n",
       "      <th>2</th>\n",
       "      <td>UTS2</td>\n",
       "      <td>Fisika</td>\n",
       "      <td>646</td>\n",
       "      <td>82</td>\n",
       "    </tr>\n",
       "    <tr>\n",
       "      <th>3</th>\n",
       "      <td>UAS2</td>\n",
       "      <td>Fisika</td>\n",
       "      <td>496</td>\n",
       "      <td>96</td>\n",
       "    </tr>\n",
       "    <tr>\n",
       "      <th>4</th>\n",
       "      <td>UTS1</td>\n",
       "      <td>Matematika</td>\n",
       "      <td>417</td>\n",
       "      <td>50</td>\n",
       "    </tr>\n",
       "    <tr>\n",
       "      <th>5</th>\n",
       "      <td>UAS1</td>\n",
       "      <td>Matematika</td>\n",
       "      <td>563</td>\n",
       "      <td>42</td>\n",
       "    </tr>\n",
       "    <tr>\n",
       "      <th>6</th>\n",
       "      <td>UTS2</td>\n",
       "      <td>Matematika</td>\n",
       "      <td>515</td>\n",
       "      <td>85</td>\n",
       "    </tr>\n",
       "    <tr>\n",
       "      <th>7</th>\n",
       "      <td>UAS2</td>\n",
       "      <td>Matematika</td>\n",
       "      <td>681</td>\n",
       "      <td>64</td>\n",
       "    </tr>\n",
       "    <tr>\n",
       "      <th>8</th>\n",
       "      <td>UTS1</td>\n",
       "      <td>Statistika</td>\n",
       "      <td>760</td>\n",
       "      <td>66</td>\n",
       "    </tr>\n",
       "    <tr>\n",
       "      <th>9</th>\n",
       "      <td>UAS1</td>\n",
       "      <td>Statistika</td>\n",
       "      <td>531</td>\n",
       "      <td>78</td>\n",
       "    </tr>\n",
       "    <tr>\n",
       "      <th>10</th>\n",
       "      <td>UTS2</td>\n",
       "      <td>Statistika</td>\n",
       "      <td>238</td>\n",
       "      <td>68</td>\n",
       "    </tr>\n",
       "    <tr>\n",
       "      <th>11</th>\n",
       "      <td>UAS2</td>\n",
       "      <td>Statistika</td>\n",
       "      <td>392</td>\n",
       "      <td>55</td>\n",
       "    </tr>\n",
       "  </tbody>\n",
       "</table>\n",
       "</div>"
      ],
      "text/plain": [
       "   Tipe Ujian Mata Pelajaran  Rata2 Waktu Belajar (menit)  Rata2 Nilai Ujian\n",
       "0        UTS1         Fisika                          406                 61\n",
       "1        UAS1         Fisika                          539                 53\n",
       "2        UTS2         Fisika                          646                 82\n",
       "3        UAS2         Fisika                          496                 96\n",
       "4        UTS1     Matematika                          417                 50\n",
       "5        UAS1     Matematika                          563                 42\n",
       "6        UTS2     Matematika                          515                 85\n",
       "7        UAS2     Matematika                          681                 64\n",
       "8        UTS1     Statistika                          760                 66\n",
       "9        UAS1     Statistika                          531                 78\n",
       "10       UTS2     Statistika                          238                 68\n",
       "11       UAS2     Statistika                          392                 55"
      ]
     },
     "execution_count": 1,
     "metadata": {
      "tags": []
     },
     "output_type": "execute_result"
    }
   ],
   "source": [
    "import pandas as pd\n",
    "import random\n",
    "\n",
    "data = {\n",
    "    'Tipe Ujian' : ['UTS1', 'UAS1', 'UTS2', 'UAS2']*3,\n",
    "    'Mata Pelajaran' : ['Fisika']*4 + ['Matematika']*4+['Statistika']*4,\n",
    "    'Rata2 Waktu Belajar (menit)' : [random.choice(range(200, 800)) for i in range(12)],\n",
    "    'Rata2 Nilai Ujian' : [random.choice(range(40, 100)) for i in range(12)] \n",
    "}\n",
    "df = pd.DataFrame(data)\n",
    "df"
   ]
  },
  {
   "cell_type": "markdown",
   "metadata": {
    "id": "G3yKJFwTKrx8"
   },
   "source": [
    "Perhatikan data di atas, kemudian ubahlah bentuknya agar sesuai yang di harapkan."
   ]
  },
  {
   "cell_type": "code",
   "execution_count": null,
   "metadata": {
    "colab": {
     "base_uri": "https://localhost:8080/",
     "height": 235
    },
    "executionInfo": {
     "elapsed": 933,
     "status": "ok",
     "timestamp": 1588141339191,
     "user": {
      "displayName": "Muhammad Fikri",
      "photoUrl": "https://lh3.googleusercontent.com/a-/AOh14GiUZBH0_W7P-7ljuBxSmEU6Ott58x4r_Vq-PTlI=s64",
      "userId": "10875683560649930013"
     },
     "user_tz": -420
    },
    "id": "ztFDyKDYKrx-",
    "outputId": "ed566fbf-8312-443e-f220-d11b9eb05b3e"
   },
   "outputs": [
    {
     "data": {
      "text/html": [
       "<div>\n",
       "<style scoped>\n",
       "    .dataframe tbody tr th:only-of-type {\n",
       "        vertical-align: middle;\n",
       "    }\n",
       "\n",
       "    .dataframe tbody tr th {\n",
       "        vertical-align: top;\n",
       "    }\n",
       "\n",
       "    .dataframe thead tr th {\n",
       "        text-align: left;\n",
       "    }\n",
       "\n",
       "    .dataframe thead tr:last-of-type th {\n",
       "        text-align: right;\n",
       "    }\n",
       "</style>\n",
       "<table border=\"1\" class=\"dataframe\">\n",
       "  <thead>\n",
       "    <tr>\n",
       "      <th></th>\n",
       "      <th colspan=\"3\" halign=\"left\">Rata2 Nilai Ujian</th>\n",
       "      <th colspan=\"3\" halign=\"left\">Rata2 Waktu Belajar (menit)</th>\n",
       "    </tr>\n",
       "    <tr>\n",
       "      <th>Mata Pelajaran</th>\n",
       "      <th>Fisika</th>\n",
       "      <th>Matematika</th>\n",
       "      <th>Statistika</th>\n",
       "      <th>Fisika</th>\n",
       "      <th>Matematika</th>\n",
       "      <th>Statistika</th>\n",
       "    </tr>\n",
       "    <tr>\n",
       "      <th>Tipe Ujian</th>\n",
       "      <th></th>\n",
       "      <th></th>\n",
       "      <th></th>\n",
       "      <th></th>\n",
       "      <th></th>\n",
       "      <th></th>\n",
       "    </tr>\n",
       "  </thead>\n",
       "  <tbody>\n",
       "    <tr>\n",
       "      <th>UAS1</th>\n",
       "      <td>53</td>\n",
       "      <td>42</td>\n",
       "      <td>78</td>\n",
       "      <td>539</td>\n",
       "      <td>563</td>\n",
       "      <td>531</td>\n",
       "    </tr>\n",
       "    <tr>\n",
       "      <th>UAS2</th>\n",
       "      <td>96</td>\n",
       "      <td>64</td>\n",
       "      <td>55</td>\n",
       "      <td>496</td>\n",
       "      <td>681</td>\n",
       "      <td>392</td>\n",
       "    </tr>\n",
       "    <tr>\n",
       "      <th>UTS1</th>\n",
       "      <td>61</td>\n",
       "      <td>50</td>\n",
       "      <td>66</td>\n",
       "      <td>406</td>\n",
       "      <td>417</td>\n",
       "      <td>760</td>\n",
       "    </tr>\n",
       "    <tr>\n",
       "      <th>UTS2</th>\n",
       "      <td>82</td>\n",
       "      <td>85</td>\n",
       "      <td>68</td>\n",
       "      <td>646</td>\n",
       "      <td>515</td>\n",
       "      <td>238</td>\n",
       "    </tr>\n",
       "  </tbody>\n",
       "</table>\n",
       "</div>"
      ],
      "text/plain": [
       "               Rata2 Nilai Ujian             ... Rata2 Waktu Belajar (menit)           \n",
       "Mata Pelajaran            Fisika Matematika  ...                  Matematika Statistika\n",
       "Tipe Ujian                                   ...                                       \n",
       "UAS1                          53         42  ...                         563        531\n",
       "UAS2                          96         64  ...                         681        392\n",
       "UTS1                          61         50  ...                         417        760\n",
       "UTS2                          82         85  ...                         515        238\n",
       "\n",
       "[4 rows x 6 columns]"
      ]
     },
     "execution_count": 2,
     "metadata": {
      "tags": []
     },
     "output_type": "execute_result"
    }
   ],
   "source": [
    "# code here\n",
    "pivot_result = df.pivot_table(values=['Rata2 Nilai Ujian', 'Rata2 Waktu Belajar (menit)'], \n",
    "                              index='Tipe Ujian', \n",
    "                              columns='Mata Pelajaran')\n",
    "# print(pivot_result)\n",
    "pivot_result"
   ]
  },
  {
   "cell_type": "markdown",
   "metadata": {
    "id": "xA8ZlQErKryO"
   },
   "source": [
    "Expected Result :\n",
    "\n",
    "![alt text](https://drive.google.com/uc?id=1XufsfqZe7-XZLsb92SpATexy-QRZE0ow)"
   ]
  },
  {
   "cell_type": "markdown",
   "metadata": {
    "id": "pXb8LRDWKryQ"
   },
   "source": [
    "<h2>Quiz 4 : Reshaping Data 2</h2>"
   ]
  },
  {
   "cell_type": "code",
   "execution_count": null,
   "metadata": {
    "colab": {
     "base_uri": "https://localhost:8080/",
     "height": 142
    },
    "executionInfo": {
     "elapsed": 921,
     "status": "ok",
     "timestamp": 1588141362200,
     "user": {
      "displayName": "Muhammad Fikri",
      "photoUrl": "https://lh3.googleusercontent.com/a-/AOh14GiUZBH0_W7P-7ljuBxSmEU6Ott58x4r_Vq-PTlI=s64",
      "userId": "10875683560649930013"
     },
     "user_tz": -420
    },
    "id": "LHe2XZyNKryS",
    "outputId": "ee296c57-6280-484a-c398-5c7c1a5cf556"
   },
   "outputs": [
    {
     "data": {
      "text/html": [
       "<div>\n",
       "<style scoped>\n",
       "    .dataframe tbody tr th:only-of-type {\n",
       "        vertical-align: middle;\n",
       "    }\n",
       "\n",
       "    .dataframe tbody tr th {\n",
       "        vertical-align: top;\n",
       "    }\n",
       "\n",
       "    .dataframe thead th {\n",
       "        text-align: right;\n",
       "    }\n",
       "</style>\n",
       "<table border=\"1\" class=\"dataframe\">\n",
       "  <thead>\n",
       "    <tr style=\"text-align: right;\">\n",
       "      <th></th>\n",
       "      <th>Kebun Binatang</th>\n",
       "      <th>Dufan</th>\n",
       "      <th>Disney</th>\n",
       "      <th>Bali</th>\n",
       "    </tr>\n",
       "    <tr>\n",
       "      <th>Hari</th>\n",
       "      <th></th>\n",
       "      <th></th>\n",
       "      <th></th>\n",
       "      <th></th>\n",
       "    </tr>\n",
       "  </thead>\n",
       "  <tbody>\n",
       "    <tr>\n",
       "      <th>Sabtu</th>\n",
       "      <td>271</td>\n",
       "      <td>501</td>\n",
       "      <td>1000</td>\n",
       "      <td>900</td>\n",
       "    </tr>\n",
       "    <tr>\n",
       "      <th>Minggu</th>\n",
       "      <td>399</td>\n",
       "      <td>700</td>\n",
       "      <td>1001</td>\n",
       "      <td>803</td>\n",
       "    </tr>\n",
       "  </tbody>\n",
       "</table>\n",
       "</div>"
      ],
      "text/plain": [
       "        Kebun Binatang  Dufan  Disney  Bali\n",
       "Hari                                       \n",
       "Sabtu              271    501    1000   900\n",
       "Minggu             399    700    1001   803"
      ]
     },
     "execution_count": 3,
     "metadata": {
      "tags": []
     },
     "output_type": "execute_result"
    }
   ],
   "source": [
    "import pandas as pd\n",
    "\n",
    "data = {\n",
    "    'Hari' : ['Sabtu', 'Minggu'],\n",
    "    'Kebun Binatang' : [271, 399],\n",
    "    'Dufan' : [501, 700],\n",
    "    'Disney' : [1000, 1001],\n",
    "    'Bali' : [900, 803]\n",
    "}\n",
    "df = pd.DataFrame(data).set_index('Hari')\n",
    "df"
   ]
  },
  {
   "cell_type": "markdown",
   "metadata": {
    "id": "w87S4Xl_Kryg"
   },
   "source": [
    "diatas adalah data tentang jumlah pengunjung di berbagai tempat hiburan, ubahlah struktur data tersebut sehingga sesuai dengan hasil yang diharapkan."
   ]
  },
  {
   "cell_type": "code",
   "execution_count": null,
   "metadata": {
    "colab": {
     "base_uri": "https://localhost:8080/",
     "height": 297
    },
    "executionInfo": {
     "elapsed": 958,
     "status": "ok",
     "timestamp": 1588141398489,
     "user": {
      "displayName": "Muhammad Fikri",
      "photoUrl": "https://lh3.googleusercontent.com/a-/AOh14GiUZBH0_W7P-7ljuBxSmEU6Ott58x4r_Vq-PTlI=s64",
      "userId": "10875683560649930013"
     },
     "user_tz": -420
    },
    "id": "mQQ6vaHFmjMJ",
    "outputId": "9575bc4b-2789-43e5-eb76-7c8ee72450e5"
   },
   "outputs": [
    {
     "data": {
      "text/html": [
       "<div>\n",
       "<style scoped>\n",
       "    .dataframe tbody tr th:only-of-type {\n",
       "        vertical-align: middle;\n",
       "    }\n",
       "\n",
       "    .dataframe tbody tr th {\n",
       "        vertical-align: top;\n",
       "    }\n",
       "\n",
       "    .dataframe thead th {\n",
       "        text-align: right;\n",
       "    }\n",
       "</style>\n",
       "<table border=\"1\" class=\"dataframe\">\n",
       "  <thead>\n",
       "    <tr style=\"text-align: right;\">\n",
       "      <th></th>\n",
       "      <th>Hari</th>\n",
       "      <th>Tempat Hiburan</th>\n",
       "      <th>Pengunjung</th>\n",
       "    </tr>\n",
       "  </thead>\n",
       "  <tbody>\n",
       "    <tr>\n",
       "      <th>0</th>\n",
       "      <td>Sabtu</td>\n",
       "      <td>Kebun Binatang</td>\n",
       "      <td>271</td>\n",
       "    </tr>\n",
       "    <tr>\n",
       "      <th>1</th>\n",
       "      <td>Minggu</td>\n",
       "      <td>Kebun Binatang</td>\n",
       "      <td>399</td>\n",
       "    </tr>\n",
       "    <tr>\n",
       "      <th>2</th>\n",
       "      <td>Sabtu</td>\n",
       "      <td>Dufan</td>\n",
       "      <td>501</td>\n",
       "    </tr>\n",
       "    <tr>\n",
       "      <th>3</th>\n",
       "      <td>Minggu</td>\n",
       "      <td>Dufan</td>\n",
       "      <td>700</td>\n",
       "    </tr>\n",
       "    <tr>\n",
       "      <th>4</th>\n",
       "      <td>Sabtu</td>\n",
       "      <td>Disney</td>\n",
       "      <td>1000</td>\n",
       "    </tr>\n",
       "    <tr>\n",
       "      <th>5</th>\n",
       "      <td>Minggu</td>\n",
       "      <td>Disney</td>\n",
       "      <td>1001</td>\n",
       "    </tr>\n",
       "    <tr>\n",
       "      <th>6</th>\n",
       "      <td>Sabtu</td>\n",
       "      <td>Bali</td>\n",
       "      <td>900</td>\n",
       "    </tr>\n",
       "    <tr>\n",
       "      <th>7</th>\n",
       "      <td>Minggu</td>\n",
       "      <td>Bali</td>\n",
       "      <td>803</td>\n",
       "    </tr>\n",
       "  </tbody>\n",
       "</table>\n",
       "</div>"
      ],
      "text/plain": [
       "     Hari  Tempat Hiburan  Pengunjung\n",
       "0   Sabtu  Kebun Binatang         271\n",
       "1  Minggu  Kebun Binatang         399\n",
       "2   Sabtu           Dufan         501\n",
       "3  Minggu           Dufan         700\n",
       "4   Sabtu          Disney        1000\n",
       "5  Minggu          Disney        1001\n",
       "6   Sabtu            Bali         900\n",
       "7  Minggu            Bali         803"
      ]
     },
     "execution_count": 4,
     "metadata": {
      "tags": []
     },
     "output_type": "execute_result"
    }
   ],
   "source": [
    "df.reset_index().melt(id_vars = ['Hari'], value_vars = ['Kebun Binatang', 'Dufan', 'Disney', 'Bali'], \n",
    "        var_name = 'Tempat Hiburan', value_name = 'Pengunjung')"
   ]
  },
  {
   "cell_type": "markdown",
   "metadata": {
    "id": "d7_5dDsRKryi"
   },
   "source": [
    "Expected Result :\n",
    "\n",
    "![alt text](https://drive.google.com/uc?id=159mIqcyfeD30EEcyZmmkovORa6cZDLtn)"
   ]
  },
  {
   "cell_type": "markdown",
   "metadata": {
    "id": "GGHgeYkEKryk"
   },
   "source": [
    "<h2>Quiz 5 : Pivoting and Aggregating</h2>"
   ]
  },
  {
   "cell_type": "code",
   "execution_count": null,
   "metadata": {
    "colab": {
     "base_uri": "https://localhost:8080/",
     "height": 266
    },
    "executionInfo": {
     "elapsed": 1088,
     "status": "ok",
     "timestamp": 1588141407404,
     "user": {
      "displayName": "Muhammad Fikri",
      "photoUrl": "https://lh3.googleusercontent.com/a-/AOh14GiUZBH0_W7P-7ljuBxSmEU6Ott58x4r_Vq-PTlI=s64",
      "userId": "10875683560649930013"
     },
     "user_tz": -420
    },
    "id": "iKMM155KKryn",
    "outputId": "4c14cac2-28e8-421b-a6c5-6621142465dc"
   },
   "outputs": [
    {
     "data": {
      "text/html": [
       "<div>\n",
       "<style scoped>\n",
       "    .dataframe tbody tr th:only-of-type {\n",
       "        vertical-align: middle;\n",
       "    }\n",
       "\n",
       "    .dataframe tbody tr th {\n",
       "        vertical-align: top;\n",
       "    }\n",
       "\n",
       "    .dataframe thead th {\n",
       "        text-align: right;\n",
       "    }\n",
       "</style>\n",
       "<table border=\"1\" class=\"dataframe\">\n",
       "  <thead>\n",
       "    <tr style=\"text-align: right;\">\n",
       "      <th></th>\n",
       "      <th>Mata Pelajaran</th>\n",
       "      <th>Jumlah Peserta</th>\n",
       "    </tr>\n",
       "    <tr>\n",
       "      <th>Tipe Ujian</th>\n",
       "      <th></th>\n",
       "      <th></th>\n",
       "    </tr>\n",
       "  </thead>\n",
       "  <tbody>\n",
       "    <tr>\n",
       "      <th>UTS1</th>\n",
       "      <td>Statistika</td>\n",
       "      <td>14</td>\n",
       "    </tr>\n",
       "    <tr>\n",
       "      <th>UAS1</th>\n",
       "      <td>Fisika</td>\n",
       "      <td>17</td>\n",
       "    </tr>\n",
       "    <tr>\n",
       "      <th>UTS1</th>\n",
       "      <td>Fisika</td>\n",
       "      <td>12</td>\n",
       "    </tr>\n",
       "    <tr>\n",
       "      <th>UAS1</th>\n",
       "      <td>Statistika</td>\n",
       "      <td>16</td>\n",
       "    </tr>\n",
       "    <tr>\n",
       "      <th>UTS1</th>\n",
       "      <td>Fisika</td>\n",
       "      <td>14</td>\n",
       "    </tr>\n",
       "    <tr>\n",
       "      <th>UAS1</th>\n",
       "      <td>Statistika</td>\n",
       "      <td>13</td>\n",
       "    </tr>\n",
       "  </tbody>\n",
       "</table>\n",
       "</div>"
      ],
      "text/plain": [
       "           Mata Pelajaran  Jumlah Peserta\n",
       "Tipe Ujian                               \n",
       "UTS1           Statistika              14\n",
       "UAS1               Fisika              17\n",
       "UTS1               Fisika              12\n",
       "UAS1           Statistika              16\n",
       "UTS1               Fisika              14\n",
       "UAS1           Statistika              13"
      ]
     },
     "execution_count": 5,
     "metadata": {
      "tags": []
     },
     "output_type": "execute_result"
    }
   ],
   "source": [
    "import pandas as pd\n",
    "\n",
    "data = {\n",
    "    'Tipe Ujian' : ['UTS1', 'UAS1']*3,\n",
    "    'Mata Pelajaran' :['Statistika', 'Fisika', 'Fisika', 'Statistika', 'Fisika', 'Statistika'],\n",
    "    'Jumlah Peserta' : [14, 17, 12, 16, 14, 13]\n",
    "}\n",
    "df = pd.DataFrame(data).set_index('Tipe Ujian')\n",
    "df"
   ]
  },
  {
   "cell_type": "markdown",
   "metadata": {
    "id": "odnDYRM3Kryz"
   },
   "source": [
    "Perhatikan bahwa data jumlah peserta ujian untuk suatu tipe ujian dan mata pelajaran tertentu ada yang duplikat, ubahlah struktur data tersebut dan lakukan aggregasi berjenis jumlah sehingga sesuai dengan hasil yang di harapkan\n",
    "\n",
    "Expected Result :\n",
    "\n",
    "![alt text](https://drive.google.com/uc?id=1emoz7orYR-0mCHffvAgM8j-V1P6yVHf0)"
   ]
  },
  {
   "cell_type": "code",
   "execution_count": null,
   "metadata": {
    "colab": {
     "base_uri": "https://localhost:8080/",
     "height": 142
    },
    "executionInfo": {
     "elapsed": 852,
     "status": "ok",
     "timestamp": 1588141430295,
     "user": {
      "displayName": "Muhammad Fikri",
      "photoUrl": "https://lh3.googleusercontent.com/a-/AOh14GiUZBH0_W7P-7ljuBxSmEU6Ott58x4r_Vq-PTlI=s64",
      "userId": "10875683560649930013"
     },
     "user_tz": -420
    },
    "id": "gLKJlUYgKry3",
    "outputId": "ceefe612-9cfb-4dea-d8bf-41b5844a6ec5"
   },
   "outputs": [
    {
     "data": {
      "text/html": [
       "<div>\n",
       "<style scoped>\n",
       "    .dataframe tbody tr th:only-of-type {\n",
       "        vertical-align: middle;\n",
       "    }\n",
       "\n",
       "    .dataframe tbody tr th {\n",
       "        vertical-align: top;\n",
       "    }\n",
       "\n",
       "    .dataframe thead th {\n",
       "        text-align: right;\n",
       "    }\n",
       "</style>\n",
       "<table border=\"1\" class=\"dataframe\">\n",
       "  <thead>\n",
       "    <tr style=\"text-align: right;\">\n",
       "      <th>Mata Pelajaran</th>\n",
       "      <th>Fisika</th>\n",
       "      <th>Statistika</th>\n",
       "    </tr>\n",
       "    <tr>\n",
       "      <th>Tipe Ujian</th>\n",
       "      <th></th>\n",
       "      <th></th>\n",
       "    </tr>\n",
       "  </thead>\n",
       "  <tbody>\n",
       "    <tr>\n",
       "      <th>UAS1</th>\n",
       "      <td>17</td>\n",
       "      <td>29</td>\n",
       "    </tr>\n",
       "    <tr>\n",
       "      <th>UTS1</th>\n",
       "      <td>26</td>\n",
       "      <td>14</td>\n",
       "    </tr>\n",
       "  </tbody>\n",
       "</table>\n",
       "</div>"
      ],
      "text/plain": [
       "Mata Pelajaran  Fisika  Statistika\n",
       "Tipe Ujian                        \n",
       "UAS1                17          29\n",
       "UTS1                26          14"
      ]
     },
     "execution_count": 6,
     "metadata": {
      "tags": []
     },
     "output_type": "execute_result"
    }
   ],
   "source": [
    "df.pivot_table(index='Tipe Ujian', columns='Mata Pelajaran', values='Jumlah Peserta', aggfunc = sum)"
   ]
  }
 ],
 "metadata": {
  "colab": {
   "collapsed_sections": [],
   "name": "muhammadfikrie1108@gmail.com.ipynb",
   "provenance": []
  },
  "kernelspec": {
   "display_name": "Python 3",
   "language": "python",
   "name": "python3"
  },
  "language_info": {
   "codemirror_mode": {
    "name": "ipython",
    "version": 3
   },
   "file_extension": ".py",
   "mimetype": "text/x-python",
   "name": "python",
   "nbconvert_exporter": "python",
   "pygments_lexer": "ipython3",
   "version": "3.8.5"
  }
 },
 "nbformat": 4,
 "nbformat_minor": 1
}
